{
 "cells": [
  {
   "cell_type": "code",
   "execution_count": null,
   "metadata": {},
   "outputs": [],
   "source": [
    "import numpy as np\n",
    "import matplotlib.pyplot as plt"
   ]
  },
  {
   "cell_type": "code",
   "execution_count": null,
   "metadata": {},
   "outputs": [],
   "source": [
    "def sigmoid(x):\n",
    "    return 1 / (1 + np.exp(-x))\n",
    "\n",
    "def tanh(x):\n",
    "    return np.tanh(x)\n",
    "\n",
    "def relu(x):\n",
    "    return np.maximum(0, x)"
   ]
  },
  {
   "cell_type": "code",
   "execution_count": null,
   "metadata": {},
   "outputs": [],
   "source": [
    "x = np.linspace(-6, 6, 100)\n",
    "y_sigmoid = sigmoid(x)\n",
    "y_tanh = tanh(x)\n",
    "y_relu = relu(x)"
   ]
  },
  {
   "cell_type": "code",
   "execution_count": null,
   "metadata": {},
   "outputs": [],
   "source": [
    "x = np.linspace(-6, 6, 100)\n",
    "y_sigmoid = sigmoid(x)\n",
    "\n",
    "# plot sigmoid\n",
    "fig = plt.figure(figsize=(12, 8)) \n",
    "plt.axhline(0, color='black', linewidth=1, linestyle='--')  # Draw x-axis\n",
    "plt.axvline(0, color='black', linewidth=1, linestyle='--')  # Draw y-axis\n",
    "plt.xticks([-6, 0, 6], fontsize=20)  # Add x-axis values\n",
    "plt.yticks([0, 0.5, 1], fontsize=20)  # Add y-axis values\n",
    "plt.plot(x, y_sigmoid, label='Sigmoid', color='#06DACA', linewidth=10, solid_capstyle='round')"
   ]
  },
  {
   "cell_type": "code",
   "execution_count": null,
   "metadata": {},
   "outputs": [],
   "source": [
    "fig.savefig('sigmoid.png', dpi=100, bbox_inches='tight', pad_inches=0.0, transparent=True)"
   ]
  },
  {
   "cell_type": "code",
   "execution_count": null,
   "metadata": {},
   "outputs": [],
   "source": [
    "x = np.linspace(-4, 4, 100)\n",
    "y_tanh = tanh(x)\n",
    "\n",
    "# plot sigmoid\n",
    "fig = plt.figure(figsize=(12, 8)) \n",
    "plt.axhline(0, color='black', linewidth=1, linestyle='--')  # Draw x-axis\n",
    "plt.axvline(0, color='black', linewidth=1, linestyle='--')  # Draw y-axis\n",
    "plt.xticks([-4, -2, 0, 2, 4], fontsize=20)  # Add x-axis values\n",
    "plt.yticks([-1, 0, 1], fontsize=20)  # Add y-axis values\n",
    "plt.plot(x, y_tanh, label='tanh', color='#06DACA', linewidth=10, solid_capstyle='round')"
   ]
  },
  {
   "cell_type": "code",
   "execution_count": null,
   "metadata": {},
   "outputs": [],
   "source": [
    "fig.savefig('tanh.png', dpi=100, bbox_inches='tight', pad_inches=0.0, transparent=True)"
   ]
  },
  {
   "cell_type": "code",
   "execution_count": null,
   "metadata": {},
   "outputs": [],
   "source": [
    "x = np.linspace(-10, 10, 100)\n",
    "y_relu = relu(x)\n",
    "\n",
    "# plot sigmoid\n",
    "fig = plt.figure(figsize=(12, 8)) \n",
    "plt.axhline(0, color='black', linewidth=1, linestyle='--')  # Draw x-axis\n",
    "plt.axvline(0, color='black', linewidth=1, linestyle='--')  # Draw y-axis\n",
    "plt.xticks([-10, -5, 0, 5, 10], fontsize=20)  # Add x-axis values\n",
    "plt.yticks(fontsize=20)  # Add y-axis values\n",
    "plt.plot(x, y_relu, label='ReLU', color='#06DACA', linewidth=10, solid_capstyle='round')\n",
    "fig.savefig('relu.png', dpi=100, bbox_inches='tight', pad_inches=0.0, transparent=True)"
   ]
  },
  {
   "cell_type": "code",
   "execution_count": null,
   "metadata": {},
   "outputs": [],
   "source": [
    "import matplotlib.pyplot as plt\n",
    "import numpy as np\n",
    "\n",
    "# Define the number of training iterations\n",
    "iterations = np.arange(1, 201)\n",
    "\n",
    "# Define the raw loss values (initial shapes)\n",
    "raw_training_loss = 10 * np.exp(-iterations / 30)\n",
    "raw_validation_loss = 12 * np.exp(-iterations / 40) + 0.01 * (iterations - 80)**2\n",
    "raw_validation_loss[raw_validation_loss < 0] = 0  # Ensure non-negative\n",
    "\n",
    "# Normalize the loss values to the range [0, 1]\n",
    "def normalize(data):\n",
    "    min_val = np.min(data)\n",
    "    max_val = np.max(data)\n",
    "    return (data - min_val) / (max_val - min_val)\n",
    "\n",
    "normalized_training_loss_base = normalize(raw_training_loss)\n",
    "normalized_validation_loss_base = normalize(raw_validation_loss)\n",
    "\n",
    "# Adjust the starting points\n",
    "training_start = 0.8\n",
    "validation_start = 0.9\n",
    "\n",
    "training_loss = normalized_training_loss_base * (training_start / normalized_training_loss_base[0])\n",
    "validation_loss = normalized_validation_loss_base * (validation_start / normalized_validation_loss_base[0])\n",
    "\n",
    "# Ensure the values stay within [0, 1] (though with these starting points and decay, it should)\n",
    "training_loss = np.clip(training_loss, 0, 1)\n",
    "validation_loss = np.clip(validation_loss, 0, 1) +0.1\n",
    "\n",
    "t_noise = np.random.normal(0, 0.01, size=iterations.shape)\n",
    "# Smooth t_noise such that values are near 0 beyond index 100\n",
    "smoothing_factor = np.linspace(1, 0, len(t_noise))\n",
    "t_noise *= smoothing_factor\n",
    "training_loss += t_noise\n",
    "v_noise = np.random.normal(0, 0.01, size=iterations.shape)\n",
    "validation_loss += v_noise\n",
    "# Ensure the values stay within [0, 1]\n",
    "training_loss = np.clip(training_loss, 0, 1)\n",
    "validation_loss = np.clip(validation_loss, 0, 1)\n",
    "\n",
    "# Create the plot\n",
    "plt.figure(figsize=(12, 7))\n",
    "plt.plot(iterations, training_loss, label='Loss on Training Data', color='blue', linewidth=4)\n",
    "plt.plot(iterations, validation_loss, label='Loss on Validation Data', color='red', linewidth=4)\n",
    "\n",
    "# Add labels and title\n",
    "plt.xlabel('Training iterations (Time)', fontsize=20)\n",
    "plt.ylabel('Loss', fontsize=20)\n",
    "\n",
    "# Add a legend\n",
    "plt.legend(fontsize=20, loc='upper right')\n",
    "\n",
    "# Add grid for better readability\n",
    "plt.grid(True, linestyle='--', alpha=0.7)\n",
    "plt.xlim(0, 150)\n",
    "plt.ylim(0, 1.05)\n",
    "plt.xticks([0, 50, 100, 150], fontsize=20)\n",
    "plt.yticks(fontsize=20)\n",
    "\n",
    "# Show the plot\n",
    "plt.tight_layout()\n",
    "plt.savefig('loss_plot.png', dpi=100, bbox_inches='tight', pad_inches=0.0, transparent=True)\n",
    "plt.show()"
   ]
  }
 ],
 "metadata": {
  "kernelspec": {
   "display_name": ".msc_venv",
   "language": "python",
   "name": "python3"
  },
  "language_info": {
   "codemirror_mode": {
    "name": "ipython",
    "version": 3
   },
   "file_extension": ".py",
   "mimetype": "text/x-python",
   "name": "python",
   "nbconvert_exporter": "python",
   "pygments_lexer": "ipython3",
   "version": "3.12.3"
  }
 },
 "nbformat": 4,
 "nbformat_minor": 2
}
