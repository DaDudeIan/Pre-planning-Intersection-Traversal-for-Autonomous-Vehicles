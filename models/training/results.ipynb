{
 "cells": [
  {
   "cell_type": "code",
   "execution_count": 359,
   "id": "bfe0b6a3",
   "metadata": {},
   "outputs": [
    {
     "name": "stdout",
     "output_type": "stream",
     "text": [
      "Starting imports\n",
      "Setting up paths\n",
      "Importing torch\n",
      "Importing custom modules\n",
      "Setting up datasets\n",
      "Importing and instantiating c_swin_05_06_100_ce-topo_adamw_cos\n",
      "swin ready\n"
     ]
    }
   ],
   "source": [
    "print(\"Starting imports\")\n",
    "import sys\n",
    "import os\n",
    "from pathlib import Path\n",
    "import numpy as np\n",
    "import matplotlib.pyplot as plt\n",
    "import datetime\n",
    "\n",
    "print(\"Setting up paths\")\n",
    "project_root = Path.cwd().parent.parent\n",
    "if str(project_root) not in sys.path:\n",
    "    sys.path.append(str(project_root))\n",
    "models_path = Path.cwd().parent\n",
    "if str(models_path) not in sys.path:\n",
    "    sys.path.append(str(models_path))\n",
    "    \n",
    "print(\"Importing torch\")\n",
    "from torch.utils.data import DataLoader\n",
    "import multiprocessing\n",
    "from torchvision.transforms import ToTensor\n",
    "import torch\n",
    "import torch.nn.functional as F\n",
    "    \n",
    "print(\"Importing custom modules\")\n",
    "from dataset.IntersectionDataset import IntersectionDatasetClasses, custom_collate_fn\n",
    "import loss.loss_lib as ll\n",
    "import loss.topo_lib as tl\n",
    "\n",
    "# ================= Datasets =====================\n",
    "print(\"Setting up datasets\")\n",
    "\n",
    "dataset_dir = \"../../dataset/dataset/train\"\n",
    "img_transform = ToTensor()\n",
    "path_transform = ToTensor()\n",
    "dataset_train = IntersectionDatasetClasses(root_dir=dataset_dir, \n",
    "                                    transform=img_transform,\n",
    "                                    path_transform=path_transform)\n",
    "\n",
    "dataset_dir = \"../../dataset/dataset/test\"\n",
    "img_transform = ToTensor()\n",
    "path_transform = ToTensor()\n",
    "dataset_test = IntersectionDatasetClasses(root_dir=dataset_dir,\n",
    "                                   transform=img_transform,\n",
    "                                   path_transform=path_transform)\n",
    "#print(len(dataset_train))\n",
    "#print(len(dataset_test))\n",
    "\n",
    "num_workers = multiprocessing.cpu_count()\n",
    "b = 1\n",
    "\n",
    "train_dataloader = DataLoader(dataset_train, batch_size=b, shuffle=False, num_workers=num_workers, pin_memory=True, persistent_workers=True, collate_fn=custom_collate_fn)\n",
    "test_dataloader = DataLoader(dataset_test, batch_size=b, shuffle=False, num_workers=num_workers, pin_memory=True, persistent_workers=True, collate_fn=custom_collate_fn)\n",
    "\n",
    "# ====================== Names ======================\n",
    "\n",
    "file_name = \"c_swin_05_06_100_ce-topo_adamw_cos\"\n",
    "print(f\"Importing and instantiating {file_name}\")\n",
    "\n",
    "try:\n",
    "    del(model)\n",
    "except:\n",
    "    pass\n",
    "\n",
    "ckpt_path = f\"/mnt/e/msc_checkpoints/{file_name}.pth\"\n",
    "ckpt = torch.load(ckpt_path)\n",
    "\n",
    "if \"deeplab\" in file_name:\n",
    "    import deeplabv3.Deeplabv3 as d\n",
    "    model_name = \"deeplab\"\n",
    "elif \"unet\" in file_name:\n",
    "    import unet.Unet as u\n",
    "    model_name = \"unet\"\n",
    "elif \"vit\" in file_name:\n",
    "    import vit.Vit as v\n",
    "    model_name = \"vit\"\n",
    "elif \"swin\" in file_name:\n",
    "    import swin.Swin as s\n",
    "    model_name = \"swin\"\n",
    "else:\n",
    "    raise ValueError(\"Model type not recognized in file name.\")\n",
    "\n",
    "if \"ce\" in file_name:\n",
    "    if \"topo\" in file_name:\n",
    "        loss_fn = \"ce-topo\"\n",
    "    elif \"cmap\" in file_name:\n",
    "        loss_fn = \"ce-cmap\"\n",
    "    else:\n",
    "        loss_fn = \"ce\"\n",
    "else:\n",
    "    if \"topo\" in file_name:\n",
    "        loss_fn = \"topo\"\n",
    "    elif \"cmap\" in file_name:\n",
    "        loss_fn = \"cmap\"\n",
    "    else:\n",
    "        raise ValueError(\"Loss function not recognized in file name.\")\n",
    "\n",
    "optimizer_name = \"adamw\"\n",
    "scheduler_name = \"cos\"\n",
    "\n",
    "# ====================== Model ======================\n",
    "\n",
    "device = torch.device(\"cuda\" if torch.cuda.is_available() else \"cpu\")\n",
    "match model_name:\n",
    "    case \"deeplab\":\n",
    "        model = d.DeepLabV3().to(device) \n",
    "        model.load_state_dict(ckpt['model_state_dict'])\n",
    "    case \"unet\":\n",
    "        model = u.UNet().to(device)\n",
    "        model.load_state_dict(ckpt['model_state_dict'])\n",
    "    case \"vit\":\n",
    "        model = v.ViT().to(device)\n",
    "        model.load_state_dict(ckpt['model_state_dict'])\n",
    "    case \"swin\":\n",
    "        model = s.Swin().to(device)\n",
    "        model.load_state_dict(ckpt['model_state_dict'])\n",
    "    case _:\n",
    "        raise ValueError(\"Model type not recognized.\")\n",
    "\n",
    "model.eval()\n",
    "\n",
    "base = f\"{model_name}_{loss_fn}_e{len(ckpt['train_losses'])}\"\n",
    "res_folder = f\"../results/\"\n",
    "    \n",
    "print(f\"{model_name} ready\")"
   ]
  },
  {
   "cell_type": "code",
   "execution_count": 360,
   "id": "901d58f0",
   "metadata": {},
   "outputs": [],
   "source": [
    "#mIoU\n",
    "def mIoU(pred, target, num_classes):\n",
    "    # pred: (H, W), target: (H, W, 1)\n",
    "    pred = pred.flatten()\n",
    "    target = target.squeeze(-1).flatten()  # remove last dim if present\n",
    "\n",
    "    intersection = np.zeros(num_classes)\n",
    "    union = np.zeros(num_classes)\n",
    "\n",
    "    for i in range(num_classes):\n",
    "        intersection[i] = np.sum((pred == i) & (target == i))\n",
    "        union[i] = np.sum((pred == i) | (target == i))\n",
    "\n",
    "    # Avoid division by zero\n",
    "    iou = np.divide(intersection, union, out=np.zeros_like(intersection, dtype=float), where=union != 0)\n",
    "    miou = np.mean(iou)\n",
    "\n",
    "    return miou\n",
    "\n",
    "def mIoU_per_class(pred, target, num_classes):\n",
    "    # pred: (H, W), target: (H, W, 1)\n",
    "    pred = pred.flatten()\n",
    "    target = target.squeeze(-1).flatten()  # remove last dim if present\n",
    "\n",
    "    intersection = np.zeros(num_classes)\n",
    "    union = np.zeros(num_classes)\n",
    "\n",
    "    for i in range(num_classes):\n",
    "        intersection[i] = np.sum((pred == i) & (target == i))\n",
    "        union[i] = np.sum((pred == i) | (target == i))\n",
    "\n",
    "    # Avoid division by zero\n",
    "    iou = np.divide(intersection, union, out=np.zeros_like(intersection, dtype=float), where=union != 0)\n",
    "\n",
    "    return iou"
   ]
  },
  {
   "cell_type": "markdown",
   "id": "3a23b653",
   "metadata": {},
   "source": [
    "# Test 1"
   ]
  },
  {
   "cell_type": "code",
   "execution_count": 361,
   "id": "a4238e5b",
   "metadata": {},
   "outputs": [
    {
     "name": "stdout",
     "output_type": "stream",
     "text": [
      "0.4082\n",
      "[0.9318, 0.1858, 0.5116, 0.3392, 0.0726]\n"
     ]
    }
   ],
   "source": [
    "test_1_index = 8\n",
    "satellite = test_dataloader.dataset[test_1_index]['satellite'].to(device)\n",
    "#fig = plt.figure(figsize=(5, 5))\n",
    "#plt.imshow(satellite.cpu().numpy().transpose(1, 2, 0))\n",
    "\n",
    "output = model(satellite.unsqueeze(0))\n",
    "output = torch.argmax(output, dim=1)\n",
    "output = output.squeeze(0).cpu().numpy()\n",
    "\n",
    "#plt.imshow(output, cmap='inferno', alpha=0.5)\n",
    "\n",
    "#plt.axis('off')\n",
    "\n",
    "#plt.savefig(f\"{res_folder}/{base}_test1.png\", bbox_inches='tight', transparent=True)\n",
    "\n",
    "class_labels = test_dataloader.dataset[test_1_index]['class_labels'].cpu().numpy().transpose(1, 2, 0)\n",
    "\n",
    "print(f\"{mIoU(output, class_labels, 5):.4f}\")\n",
    "print(f\"{[float(f\"{x:.4f}\") for x in mIoU_per_class(output, class_labels, 5)]}\")\n"
   ]
  },
  {
   "cell_type": "markdown",
   "id": "c90f750a",
   "metadata": {},
   "source": [
    "# Test 2"
   ]
  },
  {
   "cell_type": "code",
   "execution_count": 362,
   "id": "ae160588",
   "metadata": {},
   "outputs": [
    {
     "name": "stdout",
     "output_type": "stream",
     "text": [
      "0.3452\n",
      "[0.9346, 0.2152, 0.202, 0.1862, 0.1878]\n"
     ]
    }
   ],
   "source": [
    "test_2_index = 14\n",
    "satellite = test_dataloader.dataset[test_2_index]['satellite'].to(device)\n",
    "#fig = plt.figure(figsize=(5, 5))\n",
    "#plt.imshow(satellite.cpu().numpy().transpose(1, 2, 0))\n",
    "\n",
    "output = model(satellite.unsqueeze(0))\n",
    "output = torch.argmax(output, dim=1)\n",
    "output = output.squeeze(0).cpu().numpy()\n",
    "\n",
    "#plt.imshow(output, cmap='inferno', alpha=0.5)\n",
    "\n",
    "#plt.axis('off')\n",
    "\n",
    "# plt.savefig(f\"{res_folder}/{base}_test2.png\", bbox_inches='tight', transparent=True)\n",
    "\n",
    "class_labels = test_dataloader.dataset[test_2_index]['class_labels'].cpu().numpy().transpose(1, 2, 0)\n",
    "\n",
    "print(f\"{mIoU(output, class_labels, 5):.4f}\")\n",
    "print(f\"{[float(f\"{x:.4f}\") for x in mIoU_per_class(output, class_labels, 5)]}\")"
   ]
  },
  {
   "cell_type": "markdown",
   "id": "e1cfd586",
   "metadata": {},
   "source": [
    "# Train 1"
   ]
  },
  {
   "cell_type": "code",
   "execution_count": 363,
   "id": "abbb1748",
   "metadata": {},
   "outputs": [
    {
     "name": "stdout",
     "output_type": "stream",
     "text": [
      "0.4496\n",
      "[0.9403, 0.425, 0.455, 0.4276, 0.0]\n"
     ]
    },
    {
     "data": {
      "text/plain": [
       "<matplotlib.image.AxesImage at 0x7f268c94c080>"
      ]
     },
     "execution_count": 363,
     "metadata": {},
     "output_type": "execute_result"
    },
    {
     "data": {
      "image/png": "[encoded data removed]",
      "text/plain": [
       "<Figure size 640x480 with 1 Axes>"
      ]
     },
     "metadata": {},
     "output_type": "display_data"
    }
   ],
   "source": [
    "train_1_index = 0\n",
    "satellite = train_dataloader.dataset[train_1_index]['satellite'].to(device)\n",
    "#fig = plt.figure(figsize=(5, 5))\n",
    "#plt.imshow(satellite.cpu().numpy().transpose(1, 2, 0))\n",
    "\n",
    "output = model(satellite.unsqueeze(0))\n",
    "output = torch.argmax(output, dim=1)\n",
    "output = output.squeeze(0).cpu().numpy()\n",
    "\n",
    "#plt.imshow(output, cmap='inferno', alpha=0.5)\n",
    "\n",
    "#plt.axis('off')\n",
    "\n",
    "# plt.savefig(f\"{res_folder}/{base}_train1.png\", bbox_inches='tight', transparent=True)\n",
    "\n",
    "class_labels = train_dataloader.dataset[train_1_index]['class_labels'].cpu().numpy().transpose(1, 2, 0)\n",
    "\n",
    "print(f\"{mIoU(output, class_labels, 5):.4f}\")\n",
    "print(f\"{[float(f\"{x:.4f}\") for x in mIoU_per_class(output, class_labels, 5)]}\")\n",
    "\n",
    "plt.imshow(class_labels, cmap='inferno')"
   ]
  },
  {
   "cell_type": "markdown",
   "id": "dbea905d",
   "metadata": {},
   "source": [
    "# Train graph"
   ]
  },
  {
   "cell_type": "code",
   "execution_count": 364,
   "id": "adfac101",
   "metadata": {},
   "outputs": [],
   "source": [
    "# n_epochs = len(ckpt['train_losses'])\n",
    "# train_losses = ckpt['train_losses']\n",
    "# test_losses = ckpt['test_losses']\n",
    "# # Plotting the loss graphs\n",
    "# plt.figure(figsize=(10, 4))\n",
    "# plt.plot(range(1, n_epochs + 1), train_losses, label=\"Train Loss\", color='#1e3a8a')\n",
    "# plt.plot(range(1, n_epochs + 1), test_losses, label=\"Test Loss\", color = \"#be123c\")\n",
    "# plt.xlabel(\"Epoch\")\n",
    "# plt.ylabel(\"Loss\")\n",
    "# #plt.title(\"Training and Evaluation Loss Over Epochs\")\n",
    "# plt.legend()\n",
    "# #plt.savefig(f\"{res_folder}/{model_name}_{loss_fn}_train_graph.png\", bbox_inches='tight', transparent=True)\n",
    "# plt.show()"
   ]
  },
  {
   "cell_type": "markdown",
   "id": "b99151ae",
   "metadata": {},
   "source": [
    "# Validation Graph"
   ]
  },
  {
   "cell_type": "code",
   "execution_count": 365,
   "id": "bf1dd2ed",
   "metadata": {},
   "outputs": [],
   "source": [
    "# n_epochs = len(ckpt['train_losses'])\n",
    "# train_accuracies = ckpt['train_accuracies']\n",
    "# test_accuracies = ckpt['test_accuracies']\n",
    "\n",
    "# plt.figure(figsize=(10, 4))\n",
    "# train_accuracies_normalized = [acc / (400**2) for acc in train_accuracies]\n",
    "# test_accuracies_normalized = [acc / (400**2) for acc in test_accuracies]\n",
    "\n",
    "# plt.plot(range(1, n_epochs + 1), train_accuracies_normalized, label=\"Train Accuracy\", color='#1e3a8a')\n",
    "# plt.plot(range(1, n_epochs + 1), test_accuracies_normalized, label=\"Test Accuracy\", color='#be123c')\n",
    "# plt.xlabel(\"Epoch\")\n",
    "# plt.ylabel(\"Accuracy\")\n",
    "# #plt.title(\"Training and Evaluation Accuracy Over Epochs\")\n",
    "# #plt.savefig(f\"{res_folder}/{model_name}_{loss_fn}_test_graph.png\", bbox_inches='tight', transparent=True)\n",
    "# plt.legend()\n",
    "# plt.show()"
   ]
  },
  {
   "cell_type": "markdown",
   "id": "b119e4a5",
   "metadata": {},
   "source": [
    "# mIoU"
   ]
  },
  {
   "cell_type": "code",
   "execution_count": 366,
   "id": "a62c64ab",
   "metadata": {},
   "outputs": [
    {
     "name": "stdout",
     "output_type": "stream",
     "text": [
      "Overall mIoU: 0.3246\n",
      "Per class mIoU: [0.9385, 0.1807, 0.1929, 0.1767, 0.134]\n"
     ]
    }
   ],
   "source": [
    "overall_miou = []\n",
    "per_class = np.zeros((5))\n",
    "N = len(test_dataloader)\n",
    "for i in range(N):\n",
    "    satellite = test_dataloader.dataset[i]['satellite'].to(device)\n",
    "    class_labels = test_dataloader.dataset[i]['class_labels'].cpu().numpy().transpose(1, 2, 0)\n",
    "    \n",
    "    output = model(satellite.unsqueeze(0))\n",
    "    output = torch.argmax(output, dim=1)\n",
    "    output = output.squeeze(0).cpu().numpy()\n",
    "    \n",
    "    overall_miou.append(mIoU(output, class_labels, 5))\n",
    "    per_class += mIoU_per_class(output, class_labels, 5)\n",
    "    \n",
    "overall_miou = np.mean(overall_miou)\n",
    "per_class = per_class / N\n",
    "print(f\"Overall mIoU: {overall_miou:.4f}\")\n",
    "print(f\"Per class mIoU: {[float(f'{x:.4f}') for x in per_class]}\")"
   ]
  },
  {
   "cell_type": "code",
   "execution_count": 367,
   "id": "8cab60cb",
   "metadata": {},
   "outputs": [
    {
     "name": "stdout",
     "output_type": "stream",
     "text": [
      "| 0.9385 | 0.1807 | 0.1929 | 0.1767 | 0.1340 | 0.3246 |\n"
     ]
    }
   ],
   "source": [
    "import pyperclip\n",
    "\n",
    "string = f\"| {per_class[0]:.4f} | {per_class[1]:.4f} | {per_class[2]:.4f} | {per_class[3]:.4f} | {per_class[4]:.4f} | {overall_miou:.4f} |\"\n",
    "print(string)\n",
    "\n",
    "pyperclip.copy(string)"
   ]
  }
 ],
 "metadata": {
  "kernelspec": {
   "display_name": ".msc_venv",
   "language": "python",
   "name": "python3"
  },
  "language_info": {
   "codemirror_mode": {
    "name": "ipython",
    "version": 3
   },
   "file_extension": ".py",
   "mimetype": "text/x-python",
   "name": "python",
   "nbconvert_exporter": "python",
   "pygments_lexer": "ipython3",
   "version": "3.12.3"
  }
 },
 "nbformat": 4,
 "nbformat_minor": 5
}
