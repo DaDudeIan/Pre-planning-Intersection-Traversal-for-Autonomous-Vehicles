{
 "cells": [
  {
   "cell_type": "code",
   "execution_count": 1,
   "id": "9a0c8242",
   "metadata": {},
   "outputs": [
    {
     "name": "stdout",
     "output_type": "stream",
     "text": [
      "Importing misc libraries\n",
      "Updating sys.path\n",
      "Importing torch libraries\n",
      "Importing deeplab lib\n",
      "Importing dataset+loss lib\n",
      "904\n",
      "32\n"
     ]
    }
   ],
   "source": [
    "print(\"Importing misc libraries\")\n",
    "import sys\n",
    "import os\n",
    "import torch\n",
    "#import tqdm\n",
    "from pathlib import Path\n",
    "import matplotlib.pyplot as plt\n",
    "import datetime\n",
    "\n",
    "print(\"Updating sys.path\")\n",
    "project_root = Path.cwd().parent.parent\n",
    "if str(project_root) not in sys.path:\n",
    "    sys.path.append(str(project_root))\n",
    "models_path = Path.cwd().parent\n",
    "if str(models_path) not in sys.path:\n",
    "    sys.path.append(str(models_path))\n",
    "    \n",
    "print(\"Importing torch libraries\")\n",
    "from torch.utils.data import DataLoader\n",
    "import multiprocessing\n",
    "from torchvision.transforms import ToTensor\n",
    "import torch\n",
    "from torch.optim import Adam, AdamW\n",
    "import torch.nn as nn\n",
    "from torch.optim.lr_scheduler import CosineAnnealingWarmRestarts, ReduceLROnPlateau, ExponentialLR\n",
    "from torch.amp import autocast, GradScaler\n",
    "import torch.nn.functional as F\n",
    "    \n",
    "print(\"Importing deeplab lib\")\n",
    "import importlib\n",
    "import deeplabv3.Deeplabv3 as d\n",
    "importlib.reload(d)\n",
    "\n",
    "print(\"Importing dataset+loss lib\")\n",
    "import dataset.IntersectionDataset\n",
    "importlib.reload(dataset.IntersectionDataset)\n",
    "from dataset.IntersectionDataset import IntersectionDataset, IntersectionDataset2, IntersectionDatasetClasses, custom_collate_fn\n",
    "import loss.loss_lib as ll\n",
    "importlib.reload(ll)\n",
    "import loss.topo_lib as tl\n",
    "importlib.reload(tl)\n",
    "\n",
    "dataset_dir = \"../../dataset/dataset/train\"\n",
    "img_transform = ToTensor()\n",
    "path_transform = ToTensor()\n",
    "dataset_train = IntersectionDatasetClasses(root_dir=dataset_dir, \n",
    "                                    transform=img_transform,\n",
    "                                    path_transform=path_transform)\n",
    "\n",
    "dataset_dir = \"../../dataset/dataset/test\"\n",
    "img_transform = ToTensor()\n",
    "path_transform = ToTensor()\n",
    "dataset_test = IntersectionDatasetClasses(root_dir=dataset_dir,\n",
    "                                   transform=img_transform,\n",
    "                                   path_transform=path_transform)\n",
    "print(len(dataset_train))\n",
    "print(len(dataset_test))\n",
    "\n",
    "num_workers = multiprocessing.cpu_count()\n",
    "b = 4\n",
    "\n",
    "train_dataloader = DataLoader(dataset_train, batch_size=b, shuffle=True, num_workers=num_workers, pin_memory=True, persistent_workers=True, collate_fn=custom_collate_fn)\n",
    "test_dataloader = DataLoader(dataset_test, batch_size=b, shuffle=True, num_workers=num_workers, pin_memory=True, persistent_workers=True, collate_fn=custom_collate_fn)"
   ]
  },
  {
   "cell_type": "code",
   "execution_count": 2,
   "id": "6c35bab0",
   "metadata": {},
   "outputs": [],
   "source": [
    "device = torch.device(\"cuda\" if torch.cuda.is_available() else \"cpu\")\n",
    "try: \n",
    "    del(model)\n",
    "except NameError:\n",
    "    pass\n",
    "model = d.DeepLabV3().to(device) # background, left, right, ahead, stacked\n",
    "\n",
    "\n",
    "try:\n",
    "    del(optimizer)\n",
    "except NameError:\n",
    "    pass\n",
    "#optimizer = Adam(model.parameters(), lr=1e-5)\n",
    "optimizer = AdamW(model.parameters(), lr=1e-4, weight_decay=1e-4)\n",
    "\n",
    "try:\n",
    "    del(scheduler)\n",
    "except NameError:\n",
    "    pass\n",
    "scheduler = CosineAnnealingWarmRestarts(optimizer, T_0=15, T_mult=1, eta_min=1e-5)\n",
    "#scheduler = ReduceLROnPlateau(optimizer, mode='min', factor=0.2, patience=5, min_lr=1e-6)\n",
    "#scheduler = ExponentialLR(optimizer, gamma=0.9)\n",
    "\n",
    "try:\n",
    "    del(scaler)\n",
    "except NameError:\n",
    "    pass\n",
    "scaler = GradScaler(device=device)\n",
    "\n",
    "#class_counts = torch.tensor([152000, 2000, 2000, 2000, 2000], dtype=torch.float)\n",
    "#weights = 1.0 / class_counts\n",
    "##weights = weights / weights.sum()\n",
    "#weights = torch.log1p(class_counts.sum() / class_counts)\n",
    "#lce = torch.nn.CrossEntropyLoss(weight=weights.to(device))\n",
    "#lce = lce.to(device)\n",
    "#ltopo = tl.TopologyLoss().to(device)\n",
    "lcmap = ll.ColdMapLoss().to(device)"
   ]
  },
  {
   "cell_type": "code",
   "execution_count": null,
   "id": "cd05d0b7",
   "metadata": {},
   "outputs": [
    {
     "data": {
      "application/vnd.jupyter.widget-view+json": {
       "model_id": "19bb3c031fb74fb284d463bf1bcf2ad2",
       "version_major": 2,
       "version_minor": 0
      },
      "text/plain": [
       "Training:   0%|          | 0/3 [00:00<?, ?epoch/s]"
      ]
     },
     "metadata": {},
     "output_type": "display_data"
    },
    {
     "data": {
      "application/vnd.jupyter.widget-view+json": {
       "model_id": "9be2ae3d113847e7a53a6f638e1d3e30",
       "version_major": 2,
       "version_minor": 0
      },
      "text/plain": [
       "Batches:   0%|          | 0/226 [00:00<?, ?batch/s]"
      ]
     },
     "metadata": {},
     "output_type": "display_data"
    },
    {
     "data": {
      "application/vnd.jupyter.widget-view+json": {
       "model_id": "0e9509eec9a54034b9b45626b65446cf",
       "version_major": 2,
       "version_minor": 0
      },
      "text/plain": [
       "Batches:   0%|          | 0/8 [00:00<?, ?batch/s]"
      ]
     },
     "metadata": {},
     "output_type": "display_data"
    },
    {
     "data": {
      "application/vnd.jupyter.widget-view+json": {
       "model_id": "c3efc422bf754db284a91ae0e05900b0",
       "version_major": 2,
       "version_minor": 0
      },
      "text/plain": [
       "Batches:   0%|          | 0/226 [00:00<?, ?batch/s]"
      ]
     },
     "metadata": {},
     "output_type": "display_data"
    },
    {
     "data": {
      "application/vnd.jupyter.widget-view+json": {
       "model_id": "59f6e981c3994d858402eabc30b48e75",
       "version_major": 2,
       "version_minor": 0
      },
      "text/plain": [
       "Batches:   0%|          | 0/8 [00:00<?, ?batch/s]"
      ]
     },
     "metadata": {},
     "output_type": "display_data"
    },
    {
     "data": {
      "application/vnd.jupyter.widget-view+json": {
       "model_id": "42050e8d49a142369d2c01b33442d13d",
       "version_major": 2,
       "version_minor": 0
      },
      "text/plain": [
       "Batches:   0%|          | 0/226 [00:00<?, ?batch/s]"
      ]
     },
     "metadata": {},
     "output_type": "display_data"
    },
    {
     "data": {
      "application/vnd.jupyter.widget-view+json": {
       "model_id": "64dcd0d7c61842dea0e705ad98dfaadd",
       "version_major": 2,
       "version_minor": 0
      },
      "text/plain": [
       "Batches:   0%|          | 0/8 [00:00<?, ?batch/s]"
      ]
     },
     "metadata": {},
     "output_type": "display_data"
    },
    {
     "ename": "",
     "evalue": "",
     "output_type": "error",
     "traceback": [
      "\u001b[1;31mThe Kernel crashed while executing code in the current cell or a previous cell. \n",
      "\u001b[1;31mPlease review the code in the cell(s) to identify a possible cause of the failure. \n",
      "\u001b[1;31mClick <a href='https://aka.ms/vscodeJupyterKernelCrash'>here</a> for more info. \n",
      "\u001b[1;31mView Jupyter <a href='command:jupyter.viewOutput'>log</a> for further details."
     ]
    }
   ],
   "source": [
    "from tqdm.notebook import tqdm\n",
    "\n",
    "train_losses = []\n",
    "test_losses = []\n",
    "train_accuracies = []\n",
    "test_accuracies = []\n",
    "\n",
    "n_epochs = 3\n",
    "#alpha = 0.5\n",
    "epochs = tqdm(range(n_epochs), desc=\"Training\", unit=\"epoch\")\n",
    "\n",
    "#save_epochs = [10, 50, 100, 500]\n",
    "save_epochs = [5, 10, 20, 50, 100]\n",
    "\n",
    "#os.environ[\"CUDA_LAUNCH_BLOCKING\"] = \"1\"\n",
    "\n",
    "for epoch in epochs:\n",
    "    model.train()\n",
    "    running_train_loss = 0.0\n",
    "    running_train_correct = 0\n",
    "    running_train_total = 0\n",
    "    \n",
    "    alpha = tl.alpha(epoch = epoch, T_warm = 20, N_epochs = n_epochs)\n",
    "    \n",
    "    batches = tqdm(train_dataloader, desc=\"Batches\", unit=\"batch\", leave=False)\n",
    "    \n",
    "    for batch in batches:\n",
    "        satellite = batch[\"satellite\"].to(device, non_blocking=True)\n",
    "        class_labels = batch[\"class_labels\"].to(device, non_blocking=True)\n",
    "        #cold_maps = batch[\"paths\"]\n",
    "        #paths_c = [torch.as_tensor(p[\"cold_map\"]).to(device) for p in cold_maps[0]]\n",
    "        \n",
    "        class_labels = class_labels.squeeze(1)\n",
    "        \n",
    "        optimizer.zero_grad()\n",
    "        \n",
    "        with autocast(\"cuda\"):\n",
    "            output = model(satellite)\n",
    "            \n",
    "            #L_ce = lce(output, class_labels)\n",
    "            #L_topo = ltopo(output)\n",
    "            class_labels_cmap = batch[\"class_labels_cmap\"].to(output.device, non_blocking=True, dtype=output.dtype)\n",
    "            #print(f\"class_labels_cmap shape: {class_labels_cmap.shape}\")\n",
    "            L_cmap = lcmap(class_labels_cmap, output)\n",
    "            \n",
    "            #loss = alpha * L_ce + (1 - alpha) * L_topo\n",
    "            loss = L_cmap\n",
    "            \n",
    "        scaled_loss = scaler.scale(loss)\n",
    "        scaled_loss.backward()\n",
    "        scaler.step(optimizer)\n",
    "        scaler.update()\n",
    "        \n",
    "        running_train_loss += loss.item()\n",
    "        \n",
    "        p = torch.argmax(output, dim=1)\n",
    "        running_train_correct += (p == class_labels).sum().item()\n",
    "        running_train_total += class_labels.size(0)\n",
    "        \n",
    "        batches.set_postfix({\"Loss\": loss.item()})\n",
    "        \n",
    "        \n",
    "    avg_train_loss = running_train_loss / len(train_dataloader)\n",
    "    train_losses.append(avg_train_loss)\n",
    "    train_accuracy = running_train_correct / running_train_total\n",
    "    train_accuracies.append(train_accuracy)\n",
    "    \n",
    "    model.eval()\n",
    "    running_test_loss = 0.0\n",
    "    running_test_correct = 0\n",
    "    running_test_total = 0\n",
    "    \n",
    "    test_batches = tqdm(test_dataloader, desc=\"Batches\", unit=\"batch\", leave=False)\n",
    "    with torch.no_grad():\n",
    "        for batch in test_batches:\n",
    "            satellite = batch[\"satellite\"].to(device, non_blocking=True)\n",
    "            class_labels = batch[\"class_labels\"].to(device, non_blocking=True)\n",
    "            \n",
    "            class_labels = class_labels.squeeze(1)\n",
    "            \n",
    "            with autocast(\"cuda\"):\n",
    "                output = model(satellite)\n",
    "                #L_ce = lce(output, class_labels)\n",
    "                #L_topo = ltopo(output)\n",
    "                class_labels_cmap = batch[\"class_labels_cmap\"].to(output.device, non_blocking=True, dtype=output.dtype)\n",
    "                L_cmap = lcmap(class_labels_cmap, output)\n",
    "                \n",
    "                #loss = alpha * L_ce + (1 - alpha) * L_topo\n",
    "                loss = L_cmap\n",
    "            \n",
    "            running_test_loss += loss.item()\n",
    "            \n",
    "            p = torch.argmax(output, dim=1)\n",
    "            running_test_correct += (p == class_labels).sum().item()\n",
    "            running_test_total += class_labels.size(0)\n",
    "            \n",
    "            test_batches.set_postfix({\"Loss\": loss.item()})\n",
    "            \n",
    "    test_batches.close()\n",
    "            \n",
    "    avg_test_loss = running_test_loss / len(test_dataloader)\n",
    "    test_losses.append(avg_test_loss)\n",
    "    \n",
    "    test_accuracy = running_test_correct / running_test_total\n",
    "    test_accuracies.append(test_accuracy)\n",
    "    \n",
    "    scheduler.step()  \n",
    "    \n",
    "    if (epoch + 1) in save_epochs:\n",
    "        checkpoint = {\n",
    "            'epoch': epoch + 1,\n",
    "            'model_state_dict': model.state_dict(),\n",
    "            'optimizer_state_dict': optimizer.state_dict(),\n",
    "            'scheduler_state_dict': scheduler.state_dict(),\n",
    "            'train_losses': train_losses,\n",
    "            'test_losses': test_losses,\n",
    "            'train_accuracies': train_accuracies,\n",
    "            'test_accuracies': test_accuracies,\n",
    "        }\n",
    "        #os.makedirs('./ckpt', exist_ok=True)\n",
    "        \n",
    "        # f\"c_{model}_{M}_{D}_{epoch}_{loss_fn}_{optimizer}_{scheduler}_{[opt]}\"\n",
    "        date = datetime.datetime.now().strftime(\"%m_%d\")\n",
    "        torch.save(checkpoint, f'./ckpt/c_deeplab_{date}_{epoch + 1}_ce-topo_adamw_exp.pth')\n",
    "        \n",
    "    epochs.set_postfix({\"Train Loss\": avg_train_loss, \"Test Loss\": avg_test_loss, \"Train Accuracy\": train_accuracy, \"Test Accuracy\": test_accuracy})\n",
    "    batches.close()\n",
    "    \n",
    "epochs.close()\n",
    "\n",
    "    \n",
    "#torch.save(model.state_dict(), \"model_200e_ce_new_dataset_3class.pth\")"
   ]
  }
 ],
 "metadata": {
  "kernelspec": {
   "display_name": ".msc_venv",
   "language": "python",
   "name": "python3"
  },
  "language_info": {
   "codemirror_mode": {
    "name": "ipython",
    "version": 3
   },
   "file_extension": ".py",
   "mimetype": "text/x-python",
   "name": "python",
   "nbconvert_exporter": "python",
   "pygments_lexer": "ipython3",
   "version": "3.12.3"
  }
 },
 "nbformat": 4,
 "nbformat_minor": 5
}
