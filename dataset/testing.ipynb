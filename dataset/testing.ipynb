{
 "cells": [
  {
   "cell_type": "markdown",
   "metadata": {},
   "source": [
    "# Step 1: Towards coldmap\n",
    "Test if gaussian blur will suffice"
   ]
  },
  {
   "cell_type": "code",
   "execution_count": null,
   "metadata": {},
   "outputs": [],
   "source": [
    "import cv2\n",
    "\n",
    "def show_image(img):\n",
    "    cv2.imshow('image', img)\n",
    "    cv2.waitKey(0)\n",
    "    cv2.destroyAllWindows()\n",
    "\n",
    "avg_heatmap = cv2.imread('img/test/map1_path_thin.png')\n",
    "g = 25\n",
    "avg_heatmap = cv2.GaussianBlur(avg_heatmap, (g, g), 0)  # Kernel size must be odd\n",
    "\n",
    "map1 = cv2.imread('img/test/map1.png')\n",
    "path1 = cv2.imread('img/test/map1_path_thin.png')\n",
    "\n",
    "combined = cv2.addWeighted(avg_heatmap, 1, path1, 1, 0)\n",
    "combined2 = cv2.addWeighted(map1, 0.5, combined, 1, 0)\n",
    "\n",
    "\n",
    "show_image(combined2)"
   ]
  },
  {
   "cell_type": "code",
   "execution_count": null,
   "metadata": {},
   "outputs": [],
   "source": [
    "thin_path = cv2.imread('img/test/map1_path_thin.png')\n",
    "\n",
    "for g in range(3, 31, 2):\n",
    "    gausBlur = cv2.GaussianBlur(thin_path, (g, g), 0)\n",
    "    combined = cv2.addWeighted(gausBlur, 1, path1, 1, 0)\n",
    "    combined2 = cv2.addWeighted(map1, 0.2, combined, 1, 0)\n",
    "    \n",
    "    cv2.imwrite(f'img/test/combined2_image_{g}.png', combined2)"
   ]
  },
  {
   "cell_type": "markdown",
   "metadata": {},
   "source": [
    "_It does not_"
   ]
  },
  {
   "cell_type": "markdown",
   "metadata": {},
   "source": [
    "# Step 2: Find distance of each pixel from the nearest white pixel"
   ]
  },
  {
   "cell_type": "markdown",
   "metadata": {},
   "source": [
    "### Slow, non-parallelized"
   ]
  },
  {
   "cell_type": "code",
   "execution_count": null,
   "metadata": {},
   "outputs": [],
   "source": [
    "import cv2\n",
    "import matplotlib.pyplot as plt\n",
    "import numpy as np\n",
    "from IPython.display import clear_output\n",
    "from scipy.spatial import distance\n",
    "\n",
    "path = cv2.imread('img/cmap/line_path_small_curve.png', cv2.IMREAD_GRAYSCALE)\n",
    "\n",
    "# Create a binary image where non-black pixels are 1 and black pixels are 0\n",
    "_, binary = cv2.threshold(path, 1, 255, cv2.THRESH_BINARY)\n",
    "\n",
    "# Compute the distance transform\n",
    "#distance_map = cv2.distanceTransform(binary, cv2.DIST_L2, 5)\n",
    "\n",
    "# Find the coordinates of the nearest non-black pixel for each pixel\n",
    "nearest_coords = np.zeros((path.shape[0], path.shape[1], 2), dtype=int)\n",
    "for i in range(path.shape[0]):\n",
    "    for j in range(path.shape[1]):\n",
    "        clear_output(wait=True)\n",
    "        print(f\"i={i}: {(i/400 * 100):.2f}%\\nj={j}: {(j/400 * 100):.2f}%\", end='\\n')\n",
    "        if binary[i, j] == 0:\n",
    "            min_dist = float('inf')\n",
    "            nearest_coord = (i, j)\n",
    "            for x in range(path.shape[0]):\n",
    "                for y in range(path.shape[1]):\n",
    "                    if binary[x, y] != 0:\n",
    "                        #dist = np.sqrt((i - x) ** 2 + (j - y) ** 2)\n",
    "                        dist = distance.euclidean((i, j), (x, y))\n",
    "                        if dist < min_dist:\n",
    "                            min_dist = dist\n",
    "                            nearest_coord = (x, y)\n",
    "            nearest_coords[i, j] = nearest_coord\n",
    "        else:\n",
    "            nearest_coords[i, j] = (i, j)\n",
    "\n",
    "print(nearest_coords)\n",
    "\n",
    "\n"
   ]
  },
  {
   "cell_type": "markdown",
   "metadata": {},
   "source": [
    "### Parallelized"
   ]
  },
  {
   "cell_type": "code",
   "execution_count": null,
   "metadata": {},
   "outputs": [],
   "source": [
    "import cv2\n",
    "import numpy as np\n",
    "from math import hypot  # for Euclidean distance\n",
    "import multiprocessing as mp\n",
    "\n",
    "def process_rows(start, end, binary):\n",
    "    h, w = binary.shape\n",
    "    result = np.zeros((end - start, w, 2), dtype=int)\n",
    "    for i in range(start, end):\n",
    "        for j in range(w):\n",
    "            if binary[i, j] == 0:\n",
    "                min_dist = float('inf')\n",
    "                nearest_coord = (i, j)\n",
    "                # Loop over every pixel to find the nearest non-black pixel\n",
    "                for x in range(h):\n",
    "                    for y in range(w):\n",
    "                        if binary[x, y] != 0:\n",
    "                            # Use hypot for a small speed improvement\n",
    "                            d = hypot(i - x, j - y)\n",
    "                            if d < min_dist:\n",
    "                                min_dist = d\n",
    "                                nearest_coord = (x, y)\n",
    "                result[i - start, j] = nearest_coord\n",
    "            else:\n",
    "                result[i - start, j] = (i, j)\n",
    "    return result\n",
    "\n",
    "if __name__ == '__main__':\n",
    "    # Load the image\n",
    "    path = cv2.imread('img/cmap/line_path_small.png', cv2.IMREAD_GRAYSCALE)\n",
    "    _, binary = cv2.threshold(path, 1, 255, cv2.THRESH_BINARY)\n",
    "    \n",
    "    h, w = binary.shape\n",
    "    num_processes = mp.cpu_count()  # or set to a fixed number\n",
    "    chunk_size = h // num_processes\n",
    "\n",
    "    # Prepare tasks for each process\n",
    "    tasks = []\n",
    "    for p in range(num_processes):\n",
    "        start = p * chunk_size\n",
    "        # Make sure the last chunk includes any remaining rows\n",
    "        end = h if p == num_processes - 1 else (p + 1) * chunk_size\n",
    "        tasks.append((start, end, binary))\n",
    "\n",
    "    # Use a Pool to process rows in parallel\n",
    "    with mp.Pool(num_processes) as pool:\n",
    "        results = pool.starmap(process_rows, tasks)\n",
    "\n",
    "    # Concatenate the results from each process\n",
    "    nearest_coords = np.concatenate(results, axis=0)\n",
    "    \n",
    "    print(\"Nearest coordinates computed in parallel!\")\n"
   ]
  },
  {
   "cell_type": "markdown",
   "metadata": {},
   "source": [
    "### Make above into single(-ish) function\n",
    "For convenience"
   ]
  },
  {
   "cell_type": "code",
   "execution_count": null,
   "metadata": {},
   "outputs": [],
   "source": [
    "import cv2\n",
    "import numpy as np\n",
    "from math import hypot  # for Euclidean distance\n",
    "import multiprocessing as mp\n",
    "\n",
    "def process_rows(start, end, binary):\n",
    "    h, w = binary.shape\n",
    "    result = np.zeros((end - start, w, 2), dtype=int)\n",
    "    for i in range(start, end):\n",
    "        for j in range(w):\n",
    "            if binary[i, j] == 0:\n",
    "                min_dist = float('inf')\n",
    "                nearest_coord = (i, j)\n",
    "                # Loop over every pixel to find the nearest non-black pixel\n",
    "                for x in range(h):\n",
    "                    for y in range(w):\n",
    "                        if binary[x, y] != 0:\n",
    "                            # Use hypot for a small speed improvement\n",
    "                            d = hypot(i - x, j - y)\n",
    "                            if d < min_dist:\n",
    "                                min_dist = d\n",
    "                                nearest_coord = (x, y)\n",
    "                result[i - start, j] = nearest_coord\n",
    "            else:\n",
    "                result[i - start, j] = (i, j)\n",
    "    return result\n",
    "\n",
    "def get_nearest_coords(image_path: str):\n",
    "    if not image_path:\n",
    "        raise ValueError(\"Please provide a valid image path.\")\n",
    "    \n",
    "    path = cv2.imread(image_path, cv2.IMREAD_GRAYSCALE)\n",
    "    _, binary = cv2.threshold(path, 1, 255, cv2.THRESH_BINARY)\n",
    "    \n",
    "    h, w = binary.shape\n",
    "    num_processes = mp.cpu_count()\n",
    "    chunk_size = h // num_processes\n",
    "    \n",
    "    tasks = []\n",
    "    for p in range(num_processes):\n",
    "        start = p * chunk_size\n",
    "        # Make sure the last chunk includes any remaining rows\n",
    "        end = h if p == num_processes - 1 else (p + 1) * chunk_size\n",
    "        tasks.append((start, end, binary))\n",
    "\n",
    "    # Use a Pool to process rows in parallel\n",
    "    with mp.Pool(num_processes) as pool:\n",
    "        results = pool.starmap(process_rows, tasks)\n",
    "\n",
    "    # Concatenate the results from each process\n",
    "    nearest_coords = np.concatenate(results, axis=0)\n",
    "    \n",
    "    return nearest_coords\n",
    "    \n",
    "\n",
    "\n",
    "# Example usage:\n",
    "if __name__ == '__main__':\n",
    "    image_path = 'img/cmap/line_path_small_curve.png'\n",
    "    coords = get_nearest_coords(image_path)\n",
    "    print(\"Nearest coordinates array shape:\", coords.shape)\n"
   ]
  },
  {
   "cell_type": "markdown",
   "metadata": {},
   "source": [
    "# Step 3: Colour each pixel based on distance"
   ]
  },
  {
   "cell_type": "code",
   "execution_count": null,
   "metadata": {},
   "outputs": [],
   "source": [
    "rows = coords.shape[0]\n",
    "cols = coords.shape[1]\n",
    "\n",
    "heatmap = np.zeros((rows, cols), dtype=np.uint8) # uint8 = 0 to 255\n",
    "for i in range(0, rows):\n",
    "    for j in range(0, cols):\n",
    "        heatmap[i, j] = int(hypot(i - coords[i, j][0], j - coords[i, j][1]))\n",
    "        "
   ]
  },
  {
   "cell_type": "markdown",
   "metadata": {},
   "source": [
    "# Step 4: Combine to make magic"
   ]
  },
  {
   "cell_type": "code",
   "execution_count": null,
   "metadata": {},
   "outputs": [],
   "source": [
    "def generate_coldmap(image_path: str):\n",
    "    if not image_path:\n",
    "        raise ValueError(\"Please provide a valid image path.\")\n",
    "    \n",
    "    coords = get_nearest_coords(image_path)\n",
    "    \n",
    "    rows = coords.shape[0]\n",
    "    cols = coords.shape[1]\n",
    "    \n",
    "    coldmap = np.zeros((rows, cols), dtype=np.uint8)\n",
    "    for i in range(0, rows):\n",
    "        for j in range(0, cols):\n",
    "            coldmap[i, j] = int(255 * hypot(i - coords[i, j][0], j - coords[i, j][1]) / np.max(coords))\n",
    "            \n",
    "    return coldmap \n",
    "    "
   ]
  },
  {
   "cell_type": "code",
   "execution_count": null,
   "metadata": {},
   "outputs": [],
   "source": [
    "cmap = generate_coldmap('img/cmap/map1_path_thin.png') # 8 minutes\n",
    "plt.imshow(cmap, cmap='inferno')"
   ]
  },
  {
   "cell_type": "markdown",
   "metadata": {},
   "source": [
    "# Step 5: Change gradient to be more rapid the further away from white\n",
    "Also change functions around."
   ]
  },
  {
   "cell_type": "code",
   "execution_count": null,
   "metadata": {},
   "outputs": [],
   "source": [
    "import numpy as np\n",
    "from math import hypot\n",
    "\n",
    "def coords_to_coldmap(coords, threshold: float = 10, exponent: float = 0.75, normalize: int = 255):\n",
    "    rows, cols = coords.shape[0], coords.shape[1]\n",
    "    \n",
    "    # Compute the Euclidean distances.\n",
    "    distances = np.zeros((rows, cols), dtype=np.float32)\n",
    "    for i in range(rows):\n",
    "        for j in range(cols):\n",
    "            distances[i, j] = hypot(i - coords[i, j][0], j - coords[i, j][1])\n",
    "    \n",
    "    # Initialize the transformed array with the original distances.\n",
    "    transformed = distances.copy()\n",
    "    \n",
    "    # Create a mask for pixels with distance > threshold.\n",
    "    mask = distances > threshold\n",
    "    # Only update those pixels: apply the transformation for distances above the threshold.\n",
    "    transformed[mask] = threshold + (distances[mask] - threshold) ** exponent\n",
    "    \n",
    "    # Normalize the transformed values to the 0–normalize range.\n",
    "    transformed_normalized = normalize * (transformed - transformed.min()) / (transformed.max() - transformed.min())\n",
    "    \n",
    "    return_type = np.uint8 if normalize == 255 else np.float32\n",
    "    \n",
    "    return transformed_normalized.astype(return_type)"
   ]
  },
  {
   "cell_type": "code",
   "execution_count": null,
   "metadata": {},
   "outputs": [],
   "source": [
    "coords = get_nearest_coords('img/cmap/line_path_small_curve.png')\n"
   ]
  },
  {
   "cell_type": "code",
   "execution_count": null,
   "metadata": {},
   "outputs": [],
   "source": [
    "import matplotlib.pyplot as plt\n",
    "\n",
    "\n",
    "cmap = coords_to_coldmap(coords, 5, 0.75)\n",
    "plt.imshow(cmap, cmap='inferno')\n",
    "plt.colorbar()"
   ]
  },
  {
   "cell_type": "code",
   "execution_count": null,
   "metadata": {},
   "outputs": [],
   "source": [
    "thresholds = [10, 20, 40, 70, 100]\n",
    "exponents = [0.5, 0.75, 1.25]\n",
    "\n",
    "fig, axs = plt.subplots(len(exponents), len(thresholds), figsize=(20, 12))\n",
    "\n",
    "#coords2 = get_nearest_coords('img/cmap/line_path_small_curve.png')\n",
    "\n",
    "for i, e in enumerate(exponents):\n",
    "    for j, t in enumerate(thresholds):\n",
    "        cmap = coords_to_coldmap(coords, t, e)\n",
    "        axs[i, j].imshow(cmap, cmap='inferno')\n",
    "        #axs[i, j].set_title(f\"Threshold={t}, Exponent={e}\", fontsize=18)\n",
    "        axs[i, j].axis('off')\n",
    "        print(f\"Threshold={t}, Exponent={e} done!\")\n",
    "\n",
    "#fig.colorbar(axs[0, -1].get_images()[0], ax=axs, orientation='vertical', fraction=1/25)\n",
    "plt.tight_layout()\n",
    "plt.show()"
   ]
  },
  {
   "cell_type": "code",
   "execution_count": null,
   "metadata": {},
   "outputs": [],
   "source": [
    "# save fig with alpha background\n",
    "fig.savefig('img/cmap/coldmaps_comp_notitles.png', transparent=True)"
   ]
  },
  {
   "cell_type": "markdown",
   "metadata": {},
   "source": [
    "# Step 6: Loss function testing"
   ]
  },
  {
   "cell_type": "code",
   "execution_count": null,
   "metadata": {},
   "outputs": [],
   "source": [
    "import torch\n",
    "\n",
    "image_path = 'img/cmap/line_path_small_curve.png'\n",
    "image_test = 'img/cmap/line_path_small.png'"
   ]
  },
  {
   "cell_type": "code",
   "execution_count": null,
   "metadata": {},
   "outputs": [],
   "source": [
    "coords = get_nearest_coords(image_path)\n",
    "cmap = coords_to_coldmap(coords, 20, 0.5)\n",
    "type(cmap)"
   ]
  },
  {
   "cell_type": "code",
   "execution_count": null,
   "metadata": {},
   "outputs": [],
   "source": [
    "cmap = torch.from_numpy(cmap)\n",
    "cmap_f = torch.flatten(cmap)\n",
    "cmap_f.shape"
   ]
  },
  {
   "cell_type": "code",
   "execution_count": null,
   "metadata": {},
   "outputs": [],
   "source": [
    "path = cv2.imread(image_test, cv2.IMREAD_GRAYSCALE)\n",
    "path_np = np.array(path)\n",
    "path_t = torch.from_numpy(path_np)\n",
    "path_f = torch.flatten(path_t)\n",
    "path_f.shape"
   ]
  },
  {
   "cell_type": "code",
   "execution_count": null,
   "metadata": {},
   "outputs": [],
   "source": [
    "res = torch.dot(cmap_f, path_f)\n",
    "res\n"
   ]
  },
  {
   "cell_type": "code",
   "execution_count": null,
   "metadata": {},
   "outputs": [],
   "source": [
    "def compare(to_cmap: str, comp_path: str, threshold: float = 20, exponent: float = 0.5):\n",
    "    if not to_cmap or not comp_path:\n",
    "        raise ValueError(\"Please provide valid image paths.\")\n",
    "    \n",
    "    coords = get_nearest_coords(to_cmap)\n",
    "    cmap = coords_to_coldmap(coords, threshold, exponent)\n",
    "    cmap = torch.from_numpy(cmap)\n",
    "    cmap_f = torch.flatten(cmap)\n",
    "    \n",
    "    path = cv2.imread(comp_path, cv2.IMREAD_GRAYSCALE)\n",
    "    path_np = np.array(path)\n",
    "    path_t = torch.from_numpy(path_np)\n",
    "    path_f = torch.flatten(path_t)\n",
    "    \n",
    "    res = torch.dot(cmap_f, path_f)\n",
    "    \n",
    "    return res\n",
    "    "
   ]
  },
  {
   "cell_type": "code",
   "execution_count": null,
   "metadata": {},
   "outputs": [],
   "source": [
    "to_cmap = \"img/cmap/line_path_small_curve.png\"\n",
    "comp_paths = [f\"img/cmap/comp{i}.png\" for i in range(1, 4)]\n",
    "comp_paths.append(\"img/cmap/line_path_small_curve.png\")\n",
    "\n",
    "c = cmap\n",
    "fig, axs = plt.subplots(2, 2, figsize=(20, 20))\n",
    "\n",
    "axs[0][0].imshow(c, cmap='inferno')\n",
    "path = cv2.imread(comp_paths[0], cv2.IMREAD_GRAYSCALE)\n",
    "path_np = np.array(path)\n",
    "p = np.where(path_np == 255, 1, 0)\n",
    "axs[0][0].imshow(p, alpha=0.5)\n",
    "res = compare(to_cmap, comp_paths[0])\n",
    "axs[0][0].set_title(f\"Score: {res:.2f}\")\n",
    "\n",
    "axs[0][1].imshow(c, cmap='inferno')\n",
    "path = cv2.imread(comp_paths[1], cv2.IMREAD_GRAYSCALE)\n",
    "path_np = np.array(path)\n",
    "p = np.where(path_np == 255, 1, 0)\n",
    "axs[0][1].imshow(p, alpha=0.5)\n",
    "res = compare(to_cmap, comp_paths[1])\n",
    "axs[0][1].set_title(f\"Score: {res:.2f}\")\n",
    "\n",
    "\n",
    "axs[1][0].imshow(c, cmap='inferno')\n",
    "path = cv2.imread(comp_paths[2], cv2.IMREAD_GRAYSCALE)\n",
    "path_np = np.array(path)\n",
    "p = np.where(path_np == 255, 1, 0)\n",
    "axs[1][0].imshow(p, alpha=0.5)\n",
    "res = compare(to_cmap, comp_paths[2])\n",
    "axs[1][0].set_title(f\"Score: {res:.2f}\")\n",
    "\n",
    "axs[1][1].imshow(c, cmap='inferno')\n",
    "path = cv2.imread(comp_paths[3], cv2.IMREAD_GRAYSCALE)\n",
    "path_np = np.array(path)\n",
    "p = np.where(path_np == 255, 1, 0)\n",
    "axs[1][1].imshow(p, alpha=0.5)\n",
    "res = compare(to_cmap, comp_paths[3])\n",
    "axs[1][1].set_title(f\"Score: {res:.2f}\")\n",
    "\n",
    "fig.tight_layout()\n"
   ]
  },
  {
   "cell_type": "code",
   "execution_count": null,
   "metadata": {},
   "outputs": [],
   "source": [
    "thresholds = [10, 20, 40, 70, 100]\n",
    "exponents = [0.25, 0.5, 0.75, 1.0, 1.25]\n",
    "\n",
    "fig, axs = plt.subplots(len(exponents), len(thresholds), figsize=(20, 20), dpi=300)\n",
    "\n",
    "path = cv2.imread('img/cmap/line_path_small_curve.png', cv2.IMREAD_GRAYSCALE)\n",
    "path_np = np.array(path)\n",
    "p = np.where(path_np == 255, 1, 0)\n",
    "\n",
    "coords = get_nearest_coords('img/cmap/line_path_small_curve.png')\n",
    "\n",
    "for i, e in enumerate(exponents):\n",
    "    for j, t in enumerate(thresholds):\n",
    "        cmap = coords_to_coldmap(coords, t, e)\n",
    "        axs[i, j].imshow(cmap, cmap='inferno')\n",
    "        axs[i, j].imshow(p, alpha=0.5)\n",
    "        score = compare('img/cmap/line_path_small_curve.png', 'img/cmap/line_path_small_curve.png', t, e)\n",
    "        axs[i, j].set_title(f\"Threshold={t}, Exponent={e}, Score={score:.2f}\")\n",
    "        axs[i, j].axis('off')\n",
    "\n",
    "plt.tight_layout()\n",
    "plt.show()"
   ]
  },
  {
   "cell_type": "markdown",
   "metadata": {},
   "source": [
    "# Step 7: Create dataset folder structure"
   ]
  },
  {
   "cell_type": "code",
   "execution_count": null,
   "metadata": {},
   "outputs": [],
   "source": [
    "import matplotlib.pyplot as plt\n",
    "\n",
    "# Base picture (intersection)\n",
    "base_intersection = \"train/intersection1/map.png\"\n",
    "base_intersection = cv2.imread(base_intersection, cv2.IMREAD_COLOR_BGR)\n",
    "\n",
    "# Ground truth path\n",
    "gt_path = \"train/intersection1/map_path_thin.png\"\n",
    "gt_path_i = cv2.imread(gt_path, cv2.IMREAD_GRAYSCALE)\n",
    "\n",
    "# Cold map\n",
    "threshold = 20\n",
    "exponent = 0.5\n",
    "coords = get_nearest_coords(gt_path)\n",
    "cmap = coords_to_coldmap(coords, threshold, exponent)\n",
    "\n",
    "# Save the cold map\n",
    "cv2.imwrite(\"train/intersection1/cold_map.png\", cmap)"
   ]
  },
  {
   "cell_type": "markdown",
   "metadata": {},
   "source": [
    "# Step 8: Optimize algorithm further"
   ]
  },
  {
   "cell_type": "code",
   "execution_count": null,
   "metadata": {},
   "outputs": [],
   "source": [
    "from dataset_lib import *"
   ]
  },
  {
   "cell_type": "code",
   "execution_count": null,
   "metadata": {},
   "outputs": [],
   "source": [
    "input_path = \"img/cmap/map1_path_thin.png\"\n",
    "output_path = \"img/cmap/map1_path_thin_tmp4.png\"\n",
    "coords = get_nearest_coords(input_path, process_rows2)\n",
    "coldmap = coords_to_coldmap(coords, threshold=20, exponent=1.25, normalize=255)\n",
    "save_coldmap(coldmap, output_path)"
   ]
  },
  {
   "cell_type": "code",
   "execution_count": null,
   "metadata": {},
   "outputs": [],
   "source": [
    "import matplotlib.pyplot as plt\n",
    "import numpy as np\n",
    "\n",
    "# Generate coldmaps\n",
    "cmap1 = coords_to_coldmap(coords, threshold=20, exponent=0.50, normalize=1)\n",
    "cmap2 = coords_to_coldmap(coords, threshold=20, exponent=0.75, normalize=1)\n",
    "cmap3 = coords_to_coldmap(coords, threshold=20, exponent=1.25, normalize=1)\n",
    "\n",
    "# Create a figure with two rows and two columns\n",
    "fig = plt.figure(figsize=(20, 20))\n",
    "view_x = 25\n",
    "view_y = 190\n",
    "\n",
    "# --- Top row: 3D plots ---\n",
    "# Top left: 3D plot for cmap1\n",
    "ax1 = fig.add_subplot(2, 2, 1, projection='3d')\n",
    "x = np.arange(0, cmap1.shape[0], 1)\n",
    "y = np.arange(0, cmap1.shape[1], 1)\n",
    "x, y = np.meshgrid(x, y)\n",
    "z = cmap1\n",
    "ax1.view_init(view_x, view_y)\n",
    "ax1.plot_surface(x, y, z, cmap='inferno')\n",
    "\n",
    "# Top center: 3D plot for cmap2\n",
    "ax2 = fig.add_subplot(2, 2, 2, projection='3d')\n",
    "z = cmap2\n",
    "ax2.view_init(view_x, view_y)\n",
    "ax2.plot_surface(x, y, z, cmap='inferno')\n",
    "\n",
    "# Top right: 3D plot for cmap3\n",
    "ax3 = fig.add_subplot(2, 2, 3, projection='3d')\n",
    "z = cmap3\n",
    "ax3.view_init(view_x, view_y)\n",
    "ax3.plot_surface(x, y, z, cmap='inferno')\n",
    "\n",
    "\n",
    "# --- Bottom row: 2D images ---\n",
    "# Bottom left: Display cmap1 as an image\n",
    "ax3 = fig.add_subplot(2, 2, 4)\n",
    "ax3.imshow(cmap1, cmap='inferno')\n",
    "ax3.set_title('Exponent = 0.50', fontdict={'fontsize': 18})\n",
    "\n",
    "# Bottom center: Display cmap2 as an image\n",
    "ax4 = fig.add_subplot(2, 2, 5)\n",
    "ax4.imshow(cmap2, cmap='inferno')\n",
    "ax4.set_title('Exponent = 0.75', fontdict={'fontsize': 18})\n",
    "\n",
    "# Bottom right: Display cmap3 as an image\n",
    "ax5 = fig.add_subplot(2, 2, 6)\n",
    "ax5.imshow(cmap3, cmap='inferno')\n",
    "ax5.set_title('Exponent = 1.25', fontdict={'fontsize': 18})\n",
    "\n",
    "fig.tight_layout()\n",
    "fig.savefig('img/cmap/coldmaps_comp_3d_2.png', transparent=True)\n",
    "\n",
    "plt.tight_layout()\n",
    "plt.show()"
   ]
  },
  {
   "cell_type": "code",
   "execution_count": null,
   "metadata": {},
   "outputs": [],
   "source": [
    "import matplotlib.pyplot as plt\n",
    "import numpy as np\n",
    "\n",
    "# Generate coldmaps\n",
    "cmap1 = coords_to_coldmap(coords, threshold=20, exponent=0.50, normalize=1)\n",
    "cmap2 = coords_to_coldmap(coords, threshold=20, exponent=0.75, normalize=1)\n",
    "cmap3 = coords_to_coldmap(coords, threshold=20, exponent=1.25, normalize=1)\n",
    "\n",
    "# Create a figure with 2 rows and 3 columns\n",
    "fig = plt.figure(figsize=(20, 13))\n",
    "view_x = 25\n",
    "view_y = 190\n",
    "\n",
    "# Create the meshgrid for the 3D plots using cmap1's shape\n",
    "x = np.arange(0, cmap1.shape[0], 1)\n",
    "y = np.arange(0, cmap1.shape[1], 1)\n",
    "x, y = np.meshgrid(x, y)\n",
    "\n",
    "# --- Top row: 3D plots ---\n",
    "# Top left: 3D plot for cmap1\n",
    "ax1 = fig.add_subplot(2, 3, 1, projection='3d')\n",
    "z = cmap1\n",
    "ax1.view_init(view_x, view_y)\n",
    "ax1.plot_surface(x, y, z, cmap='inferno')\n",
    "\n",
    "# Top center: 3D plot for cmap2\n",
    "ax2 = fig.add_subplot(2, 3, 2, projection='3d')\n",
    "z = cmap2\n",
    "ax2.view_init(view_x, view_y)\n",
    "ax2.plot_surface(x, y, z, cmap='inferno')\n",
    "\n",
    "# Top right: 3D plot for cmap3\n",
    "ax3 = fig.add_subplot(2, 3, 3, projection='3d')\n",
    "z = cmap3\n",
    "ax3.view_init(view_x, view_y)\n",
    "ax3.plot_surface(x, y, z, cmap='inferno')\n",
    "\n",
    "# --- Bottom row: 2D images ---\n",
    "# Bottom left: Display cmap1 as an image\n",
    "ax4 = fig.add_subplot(2, 3, 4)\n",
    "ax4.imshow(cmap1, cmap='inferno')\n",
    "ax4.set_title('Exponent = 0.50', fontdict={'fontsize': 18})\n",
    "\n",
    "# Bottom center: Display cmap2 as an image\n",
    "ax5 = fig.add_subplot(2, 3, 5)\n",
    "ax5.imshow(cmap2, cmap='inferno')\n",
    "ax5.set_title('Exponent = 0.75', fontdict={'fontsize': 18})\n",
    "\n",
    "# Bottom right: Display cmap3 as an image\n",
    "ax6 = fig.add_subplot(2, 3, 6)\n",
    "ax6.imshow(cmap3, cmap='inferno')\n",
    "ax6.set_title('Exponent = 1.25', fontdict={'fontsize': 18})\n",
    "\n",
    "fig.tight_layout()\n",
    "fig.savefig('img/cmap/coldmaps_comp_3d_2.png', transparent=True)\n",
    "plt.show()\n"
   ]
  }
 ],
 "metadata": {
  "kernelspec": {
   "display_name": ".msc_venv",
   "language": "python",
   "name": "python3"
  },
  "language_info": {
   "codemirror_mode": {
    "name": "ipython",
    "version": 3
   },
   "file_extension": ".py",
   "mimetype": "text/x-python",
   "name": "python",
   "nbconvert_exporter": "python",
   "pygments_lexer": "ipython3",
   "version": "3.12.3"
  }
 },
 "nbformat": 4,
 "nbformat_minor": 2
}
