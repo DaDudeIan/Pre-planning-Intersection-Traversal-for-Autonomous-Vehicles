{
 "cells": [
  {
   "cell_type": "code",
   "execution_count": null,
   "metadata": {},
   "outputs": [],
   "source": [
    "from importlib import reload\n",
    "import IntersectionDataset\n",
    "reload(IntersectionDataset)\n",
    "from IntersectionDataset import IntersectionDataset2\n",
    "\n",
    "from torch.utils.data import DataLoader\n",
    "import multiprocessing\n",
    "from torchvision.transforms import ToTensor\n",
    "import torch\n",
    "import glob\n",
    "import os\n",
    "import cv2\n",
    "import json\n",
    "import numpy as np\n",
    "\n",
    "import matplotlib.pyplot as plt"
   ]
  },
  {
   "cell_type": "code",
   "execution_count": null,
   "metadata": {},
   "outputs": [],
   "source": [
    "intersections = glob.glob('dataset/test/intersection_*')\n",
    "intersections"
   ]
  },
  {
   "cell_type": "code",
   "execution_count": null,
   "metadata": {},
   "outputs": [],
   "source": [
    "def map_exit_to_class(exit_x, exit_y):\n",
    "    if exit_y == 0:\n",
    "        return 1  # left\n",
    "    elif exit_y == 399:\n",
    "        return 2  # right\n",
    "    elif exit_x == 0:\n",
    "        return 3  # ahead\n",
    "    else:\n",
    "        raise ValueError(\"Unexpected exit position\")\n"
   ]
  },
  {
   "cell_type": "code",
   "execution_count": null,
   "metadata": {},
   "outputs": [],
   "source": [
    "for i, intersection in enumerate(intersections):\n",
    "    satellite = os.path.join(intersection, 'satellite.png')\n",
    "    paths = glob.glob(f\"{intersection}/paths/*\")\n",
    "    paths_png = [os.path.join(paths[i], f\"path_line.png\") for i in range(len(paths))]\n",
    "    paths_img = [cv2.imread(paths_png[i], cv2.IMREAD_GRAYSCALE) for i in range(len(paths_png))]\n",
    "    ee_dirs = [os.path.join(paths[i], f\"path_line_ee.json\") for i in range(len(paths))]\n",
    "    ee_data = []\n",
    "    for ee_dir in ee_dirs:\n",
    "        with open(ee_dir) as f:\n",
    "            ee_data.append(json.load(f))\n",
    "\n",
    "    \n",
    "    H, W = paths_img[0].shape\n",
    "\n",
    "    combined = torch.full((1, H, W), 0, dtype=torch.long)\n",
    "\n",
    "    for j, p in enumerate(paths_img):\n",
    "        ee = ee_data[j]\n",
    "        exit_x = ee[\"exit\"][\"x\"]\n",
    "        exit_y = ee[\"exit\"][\"y\"]\n",
    "        \n",
    "        class_label = map_exit_to_class(exit_x, exit_y)\n",
    "        \n",
    "        p = cv2.GaussianBlur(p, (5, 5), 0)\n",
    "        \n",
    "        mask = torch.from_numpy(p > 0)\n",
    "        \n",
    "        class_label = torch.full((1, H, W), class_label, dtype=torch.long)\n",
    "        \n",
    "        combined += mask * class_label\n",
    "    combined = combined.clamp(0, 4)\n",
    "\n",
    "    combined_img = combined.squeeze().numpy()\n",
    "    \n",
    "    np.save(f\"{intersection}/class_labels.npy\", combined_img)\n",
    "    print(f\"Saved {intersection}/class_labels.npy\")"
   ]
  },
  {
   "cell_type": "code",
   "execution_count": null,
   "metadata": {},
   "outputs": [],
   "source": [
    "img = np.load(f\"dataset/test/intersection_032/class_labels.npy\")\n",
    "plt.imshow(img, cmap=\"inferno\")\n",
    "plt.colorbar()\n",
    "plt.axis('off')"
   ]
  },
  {
   "cell_type": "code",
   "execution_count": null,
   "metadata": {},
   "outputs": [],
   "source": [
    "# find percentage of each class\n",
    "for i, intersection in enumerate(intersections):\n",
    "    img = np.load(f\"{intersection}/class_labels.npy\")\n",
    "    unique, counts = np.unique(img, return_counts=True)\n",
    "    percentages = np.round((counts / counts.sum()) * 100, 2)\n",
    "    class_counts = {int(k): {'count': int(v), 'percentage': float(p)} for k, v, p in zip(unique, counts, percentages)}\n",
    "    print(f\"Intersection {i}: {class_counts}\")"
   ]
  }
 ],
 "metadata": {
  "kernelspec": {
   "display_name": ".msc_venv",
   "language": "python",
   "name": "python3"
  },
  "language_info": {
   "codemirror_mode": {
    "name": "ipython",
    "version": 3
   },
   "file_extension": ".py",
   "mimetype": "text/x-python",
   "name": "python",
   "nbconvert_exporter": "python",
   "pygments_lexer": "ipython3",
   "version": "3.12.3"
  }
 },
 "nbformat": 4,
 "nbformat_minor": 2
}
