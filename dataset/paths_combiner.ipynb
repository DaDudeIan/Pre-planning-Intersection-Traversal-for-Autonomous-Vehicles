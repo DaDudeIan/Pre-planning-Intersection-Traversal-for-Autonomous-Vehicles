{
 "cells": [
  {
   "cell_type": "code",
   "execution_count": 1,
   "metadata": {},
   "outputs": [],
   "source": [
    "from importlib import reload\n",
    "import IntersectionDataset\n",
    "reload(IntersectionDataset)\n",
    "from IntersectionDataset import IntersectionDataset2\n",
    "\n",
    "from torch.utils.data import DataLoader\n",
    "import multiprocessing\n",
    "from torchvision.transforms import ToTensor\n",
    "import torch\n",
    "import glob\n",
    "import os\n",
    "import cv2\n",
    "import json\n",
    "import numpy as np\n",
    "\n",
    "import matplotlib.pyplot as plt"
   ]
  },
  {
   "cell_type": "code",
   "execution_count": 5,
   "metadata": {},
   "outputs": [
    {
     "data": {
      "text/plain": [
       "['dataset/test/intersection_001',\n",
       " 'dataset/test/intersection_002',\n",
       " 'dataset/test/intersection_003',\n",
       " 'dataset/test/intersection_004',\n",
       " 'dataset/test/intersection_005',\n",
       " 'dataset/test/intersection_006',\n",
       " 'dataset/test/intersection_007',\n",
       " 'dataset/test/intersection_008',\n",
       " 'dataset/test/intersection_009',\n",
       " 'dataset/test/intersection_010',\n",
       " 'dataset/test/intersection_011',\n",
       " 'dataset/test/intersection_012',\n",
       " 'dataset/test/intersection_013',\n",
       " 'dataset/test/intersection_014',\n",
       " 'dataset/test/intersection_015',\n",
       " 'dataset/test/intersection_016',\n",
       " 'dataset/test/intersection_017',\n",
       " 'dataset/test/intersection_018',\n",
       " 'dataset/test/intersection_019',\n",
       " 'dataset/test/intersection_020',\n",
       " 'dataset/test/intersection_021',\n",
       " 'dataset/test/intersection_022',\n",
       " 'dataset/test/intersection_023',\n",
       " 'dataset/test/intersection_024',\n",
       " 'dataset/test/intersection_025',\n",
       " 'dataset/test/intersection_026',\n",
       " 'dataset/test/intersection_027',\n",
       " 'dataset/test/intersection_028',\n",
       " 'dataset/test/intersection_029',\n",
       " 'dataset/test/intersection_030',\n",
       " 'dataset/test/intersection_031',\n",
       " 'dataset/test/intersection_032']"
      ]
     },
     "execution_count": 5,
     "metadata": {},
     "output_type": "execute_result"
    }
   ],
   "source": [
    "intersections = glob.glob('dataset/test/intersection_*')\n",
    "intersections"
   ]
  },
  {
   "cell_type": "code",
   "execution_count": 33,
   "metadata": {},
   "outputs": [],
   "source": [
    "def map_exit_to_class(exit_x, exit_y):\n",
    "    if exit_y == 0:\n",
    "        return 1  # left\n",
    "    elif exit_y == 399:\n",
    "        return 2  # right\n",
    "    elif exit_x == 0:\n",
    "        return 3  # ahead\n",
    "    else:\n",
    "        raise ValueError(\"Unexpected exit position\")\n"
   ]
  },
  {
   "cell_type": "code",
   "execution_count": 34,
   "metadata": {},
   "outputs": [
    {
     "name": "stdout",
     "output_type": "stream",
     "text": [
      "Saved dataset/test/intersection_001/class_labels.npy\n",
      "Saved dataset/test/intersection_002/class_labels.npy\n",
      "Saved dataset/test/intersection_003/class_labels.npy\n",
      "Saved dataset/test/intersection_004/class_labels.npy\n",
      "Saved dataset/test/intersection_005/class_labels.npy\n",
      "Saved dataset/test/intersection_006/class_labels.npy\n",
      "Saved dataset/test/intersection_007/class_labels.npy\n",
      "Saved dataset/test/intersection_008/class_labels.npy\n",
      "Saved dataset/test/intersection_009/class_labels.npy\n",
      "Saved dataset/test/intersection_010/class_labels.npy\n",
      "Saved dataset/test/intersection_011/class_labels.npy\n",
      "Saved dataset/test/intersection_012/class_labels.npy\n",
      "Saved dataset/test/intersection_013/class_labels.npy\n",
      "Saved dataset/test/intersection_014/class_labels.npy\n",
      "Saved dataset/test/intersection_015/class_labels.npy\n",
      "Saved dataset/test/intersection_016/class_labels.npy\n",
      "Saved dataset/test/intersection_017/class_labels.npy\n",
      "Saved dataset/test/intersection_018/class_labels.npy\n",
      "Saved dataset/test/intersection_019/class_labels.npy\n",
      "Saved dataset/test/intersection_020/class_labels.npy\n",
      "Saved dataset/test/intersection_021/class_labels.npy\n",
      "Saved dataset/test/intersection_022/class_labels.npy\n",
      "Saved dataset/test/intersection_023/class_labels.npy\n",
      "Saved dataset/test/intersection_024/class_labels.npy\n",
      "Saved dataset/test/intersection_025/class_labels.npy\n",
      "Saved dataset/test/intersection_026/class_labels.npy\n",
      "Saved dataset/test/intersection_027/class_labels.npy\n",
      "Saved dataset/test/intersection_028/class_labels.npy\n",
      "Saved dataset/test/intersection_029/class_labels.npy\n",
      "Saved dataset/test/intersection_030/class_labels.npy\n",
      "Saved dataset/test/intersection_031/class_labels.npy\n",
      "Saved dataset/test/intersection_032/class_labels.npy\n"
     ]
    }
   ],
   "source": [
    "for i, intersection in enumerate(intersections):\n",
    "    satellite = os.path.join(intersection, 'satellite.png')\n",
    "    paths = glob.glob(f\"{intersection}/paths/*\")\n",
    "    paths_png = [os.path.join(paths[i], f\"path_line.png\") for i in range(len(paths))]\n",
    "    paths_img = [cv2.imread(paths_png[i], cv2.IMREAD_GRAYSCALE) for i in range(len(paths_png))]\n",
    "    ee_dirs = [os.path.join(paths[i], f\"path_line_ee.json\") for i in range(len(paths))]\n",
    "    ee_data = []\n",
    "    for ee_dir in ee_dirs:\n",
    "        with open(ee_dir) as f:\n",
    "            ee_data.append(json.load(f))\n",
    "\n",
    "    \n",
    "    H, W = paths_img[0].shape\n",
    "\n",
    "    combined = torch.full((1, H, W), 0, dtype=torch.long)\n",
    "\n",
    "    for j, p in enumerate(paths_img):\n",
    "        ee = ee_data[j]\n",
    "        exit_x = ee[\"exit\"][\"x\"]\n",
    "        exit_y = ee[\"exit\"][\"y\"]\n",
    "        \n",
    "        class_label = map_exit_to_class(exit_x, exit_y)\n",
    "        \n",
    "        p = cv2.GaussianBlur(p, (5, 5), 0)\n",
    "        \n",
    "        mask = torch.from_numpy(p > 0)\n",
    "        \n",
    "        class_label = torch.full((1, H, W), class_label, dtype=torch.long)\n",
    "        \n",
    "        combined += mask * class_label\n",
    "    combined = combined.clamp(0, 4)\n",
    "\n",
    "    combined_img = combined.squeeze().numpy()\n",
    "    \n",
    "    np.save(f\"{intersection}/class_labels.npy\", combined_img)\n",
    "    print(f\"Saved {intersection}/class_labels.npy\")"
   ]
  },
  {
   "cell_type": "code",
   "execution_count": 3,
   "metadata": {},
   "outputs": [
    {
     "data": {
      "text/plain": [
       "(np.float64(-0.5), np.float64(399.5), np.float64(399.5), np.float64(-0.5))"
      ]
     },
     "execution_count": 3,
     "metadata": {},
     "output_type": "execute_result"
    },
    {
     "data": {
      "image/png": "[encoded data removed]",
      "text/plain": [
       "<Figure size 640x480 with 2 Axes>"
      ]
     },
     "metadata": {},
     "output_type": "display_data"
    }
   ],
   "source": [
    "img = np.load(f\"dataset/test/intersection_032/class_labels.npy\")\n",
    "plt.imshow(img, cmap=\"inferno\")\n",
    "plt.colorbar()\n",
    "plt.axis('off')"
   ]
  },
  {
   "cell_type": "code",
   "execution_count": 12,
   "metadata": {},
   "outputs": [
    {
     "name": "stdout",
     "output_type": "stream",
     "text": [
      "Intersection 0: {0: {'count': 154614, 'percentage': 96.63}, 1: {'count': 1649, 'percentage': 1.03}, 2: {'count': 1066, 'percentage': 0.67}, 3: {'count': 1159, 'percentage': 0.72}, 4: {'count': 1512, 'percentage': 0.94}}\n",
      "Intersection 1: {0: {'count': 156190, 'percentage': 97.62}, 1: {'count': 1412, 'percentage': 0.88}, 3: {'count': 1346, 'percentage': 0.84}, 4: {'count': 1052, 'percentage': 0.66}}\n",
      "Intersection 2: {0: {'count': 155097, 'percentage': 96.94}, 1: {'count': 2506, 'percentage': 1.57}, 3: {'count': 2397, 'percentage': 1.5}}\n",
      "Intersection 3: {0: {'count': 156190, 'percentage': 97.62}, 2: {'count': 1405, 'percentage': 0.88}, 3: {'count': 1433, 'percentage': 0.9}, 4: {'count': 972, 'percentage': 0.61}}\n",
      "Intersection 4: {0: {'count': 155752, 'percentage': 97.34}, 1: {'count': 1804, 'percentage': 1.13}, 2: {'count': 1411, 'percentage': 0.88}, 3: {'count': 1033, 'percentage': 0.65}}\n",
      "Intersection 5: {0: {'count': 155012, 'percentage': 96.88}, 1: {'count': 1328, 'percentage': 0.83}, 2: {'count': 1243, 'percentage': 0.78}, 3: {'count': 1275, 'percentage': 0.8}, 4: {'count': 1142, 'percentage': 0.71}}\n",
      "Intersection 6: {0: {'count': 154984, 'percentage': 96.86}, 1: {'count': 2553, 'percentage': 1.6}, 3: {'count': 2463, 'percentage': 1.54}}\n",
      "Intersection 7: {0: {'count': 155736, 'percentage': 97.34}, 1: {'count': 1982, 'percentage': 1.24}, 2: {'count': 1519, 'percentage': 0.95}, 3: {'count': 763, 'percentage': 0.48}}\n",
      "Intersection 8: {0: {'count': 154083, 'percentage': 96.3}, 1: {'count': 2190, 'percentage': 1.37}, 2: {'count': 1290, 'percentage': 0.81}, 3: {'count': 1465, 'percentage': 0.92}, 4: {'count': 972, 'percentage': 0.61}}\n",
      "Intersection 9: {0: {'count': 155167, 'percentage': 96.98}, 1: {'count': 2435, 'percentage': 1.52}, 3: {'count': 2398, 'percentage': 1.5}}\n",
      "Intersection 10: {0: {'count': 154668, 'percentage': 96.67}, 1: {'count': 2923, 'percentage': 1.83}, 3: {'count': 2409, 'percentage': 1.51}}\n",
      "Intersection 11: {0: {'count': 154657, 'percentage': 96.66}, 1: {'count': 1600, 'percentage': 1.0}, 2: {'count': 1090, 'percentage': 0.68}, 3: {'count': 1067, 'percentage': 0.67}, 4: {'count': 1586, 'percentage': 0.99}}\n",
      "Intersection 12: {0: {'count': 154825, 'percentage': 96.77}, 1: {'count': 2128, 'percentage': 1.33}, 3: {'count': 2604, 'percentage': 1.63}, 4: {'count': 443, 'percentage': 0.28}}\n",
      "Intersection 13: {0: {'count': 154860, 'percentage': 96.79}, 1: {'count': 1414, 'percentage': 0.88}, 2: {'count': 1282, 'percentage': 0.8}, 3: {'count': 1413, 'percentage': 0.88}, 4: {'count': 1031, 'percentage': 0.64}}\n",
      "Intersection 14: {0: {'count': 154081, 'percentage': 96.3}, 1: {'count': 1782, 'percentage': 1.11}, 2: {'count': 1555, 'percentage': 0.97}, 3: {'count': 1473, 'percentage': 0.92}, 4: {'count': 1109, 'percentage': 0.69}}\n",
      "Intersection 15: {0: {'count': 156077, 'percentage': 97.55}, 2: {'count': 1044, 'percentage': 0.65}, 3: {'count': 1855, 'percentage': 1.16}, 4: {'count': 1024, 'percentage': 0.64}}\n",
      "Intersection 16: {0: {'count': 153726, 'percentage': 96.08}, 1: {'count': 2273, 'percentage': 1.42}, 2: {'count': 1166, 'percentage': 0.73}, 3: {'count': 1793, 'percentage': 1.12}, 4: {'count': 1042, 'percentage': 0.65}}\n",
      "Intersection 17: {0: {'count': 152982, 'percentage': 95.61}, 1: {'count': 2486, 'percentage': 1.55}, 2: {'count': 2097, 'percentage': 1.31}, 3: {'count': 2318, 'percentage': 1.45}, 4: {'count': 117, 'percentage': 0.07}}\n",
      "Intersection 18: {0: {'count': 154771, 'percentage': 96.73}, 1: {'count': 1433, 'percentage': 0.9}, 2: {'count': 1262, 'percentage': 0.79}, 3: {'count': 1337, 'percentage': 0.84}, 4: {'count': 1197, 'percentage': 0.75}}\n",
      "Intersection 19: {0: {'count': 153888, 'percentage': 96.18}, 1: {'count': 1562, 'percentage': 0.98}, 2: {'count': 2138, 'percentage': 1.34}, 3: {'count': 1378, 'percentage': 0.86}, 4: {'count': 1034, 'percentage': 0.65}}\n",
      "Intersection 20: {0: {'count': 153940, 'percentage': 96.21}, 1: {'count': 1557, 'percentage': 0.97}, 2: {'count': 2070, 'percentage': 1.29}, 3: {'count': 1470, 'percentage': 0.92}, 4: {'count': 963, 'percentage': 0.6}}\n",
      "Intersection 21: {0: {'count': 154012, 'percentage': 96.26}, 1: {'count': 2391, 'percentage': 1.49}, 2: {'count': 1181, 'percentage': 0.74}, 3: {'count': 1494, 'percentage': 0.93}, 4: {'count': 922, 'percentage': 0.58}}\n",
      "Intersection 22: {0: {'count': 153029, 'percentage': 95.64}, 1: {'count': 2480, 'percentage': 1.55}, 2: {'count': 2091, 'percentage': 1.31}, 3: {'count': 2400, 'percentage': 1.5}}\n",
      "Intersection 23: {0: {'count': 154779, 'percentage': 96.74}, 1: {'count': 1363, 'percentage': 0.85}, 2: {'count': 1186, 'percentage': 0.74}, 3: {'count': 1537, 'percentage': 0.96}, 4: {'count': 1135, 'percentage': 0.71}}\n",
      "Intersection 24: {0: {'count': 152991, 'percentage': 95.62}, 1: {'count': 2459, 'percentage': 1.54}, 2: {'count': 2136, 'percentage': 1.34}, 3: {'count': 2414, 'percentage': 1.51}}\n",
      "Intersection 25: {0: {'count': 155447, 'percentage': 97.15}, 1: {'count': 2428, 'percentage': 1.52}, 2: {'count': 2125, 'percentage': 1.33}}\n",
      "Intersection 26: {0: {'count': 154425, 'percentage': 96.52}, 1: {'count': 1584, 'percentage': 0.99}, 2: {'count': 1261, 'percentage': 0.79}, 3: {'count': 1057, 'percentage': 0.66}, 4: {'count': 1673, 'percentage': 1.05}}\n",
      "Intersection 27: {0: {'count': 155525, 'percentage': 97.2}, 2: {'count': 2055, 'percentage': 1.28}, 3: {'count': 2420, 'percentage': 1.51}}\n",
      "Intersection 28: {0: {'count': 155275, 'percentage': 97.05}, 1: {'count': 2268, 'percentage': 1.42}, 2: {'count': 2174, 'percentage': 1.36}, 3: {'count': 283, 'percentage': 0.18}}\n",
      "Intersection 29: {0: {'count': 156035, 'percentage': 97.52}, 2: {'count': 1566, 'percentage': 0.98}, 3: {'count': 1364, 'percentage': 0.85}, 4: {'count': 1035, 'percentage': 0.65}}\n",
      "Intersection 30: {0: {'count': 153083, 'percentage': 95.68}, 1: {'count': 2414, 'percentage': 1.51}, 2: {'count': 2069, 'percentage': 1.29}, 3: {'count': 2434, 'percentage': 1.52}}\n",
      "Intersection 31: {0: {'count': 153702, 'percentage': 96.06}, 1: {'count': 2376, 'percentage': 1.48}, 2: {'count': 1471, 'percentage': 0.92}, 3: {'count': 1617, 'percentage': 1.01}, 4: {'count': 834, 'percentage': 0.52}}\n"
     ]
    }
   ],
   "source": [
    "# find percentage of each class\n",
    "for i, intersection in enumerate(intersections):\n",
    "    img = np.load(f\"{intersection}/class_labels.npy\")\n",
    "    unique, counts = np.unique(img, return_counts=True)\n",
    "    percentages = np.round((counts / counts.sum()) * 100, 2)\n",
    "    class_counts = {int(k): {'count': int(v), 'percentage': float(p)} for k, v, p in zip(unique, counts, percentages)}\n",
    "    print(f\"Intersection {i}: {class_counts}\")"
   ]
  }
 ],
 "metadata": {
  "kernelspec": {
   "display_name": ".msc_venv",
   "language": "python",
   "name": "python3"
  },
  "language_info": {
   "codemirror_mode": {
    "name": "ipython",
    "version": 3
   },
   "file_extension": ".py",
   "mimetype": "text/x-python",
   "name": "python",
   "nbconvert_exporter": "python",
   "pygments_lexer": "ipython3",
   "version": "3.12.3"
  }
 },
 "nbformat": 4,
 "nbformat_minor": 2
}
