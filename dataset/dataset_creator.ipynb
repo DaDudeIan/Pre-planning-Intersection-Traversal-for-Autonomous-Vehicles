{
 "cells": [
  {
   "cell_type": "code",
   "execution_count": null,
   "metadata": {},
   "outputs": [],
   "source": [
    "import os\n",
    "import shutil\n",
    "import glob"
   ]
  },
  {
   "cell_type": "code",
   "execution_count": null,
   "metadata": {},
   "outputs": [],
   "source": [
    "directory = './unprocessed'\n",
    "amnt = 0\n",
    "for filename in os.listdir(directory):\n",
    "    file_path = os.path.join(directory, filename)\n",
    "    if os.path.isfile(file_path):\n",
    "        amnt += 1\n",
    "        \n",
    "num = 3\n",
    "intersection_numbers = [f\"{n:03d}\" for n in range(num, num+amnt)]"
   ]
  },
  {
   "cell_type": "code",
   "execution_count": null,
   "metadata": {},
   "outputs": [],
   "source": [
    "source_directory = './unprocessed'\n",
    "destination_base = './dataset'\n",
    "start_num = 3\n",
    "\n",
    "files = [f for f in os.listdir(source_directory)\n",
    "         if os.path.isfile(os.path.join(source_directory, f))]\n",
    "\n",
    "intersection_numbers = [f\"{n:03d}\" for n in range(start_num, start_num + len(files))]\n",
    "\n",
    "print(intersection_numbers)"
   ]
  },
  {
   "cell_type": "code",
   "execution_count": null,
   "metadata": {},
   "outputs": [],
   "source": [
    "for i, filename in enumerate(files):\n",
    "    # Construct the intersection folder name and path\n",
    "    folder_name = f\"intersection_{intersection_numbers[i]}\"\n",
    "    destination_folder = os.path.join(destination_base, folder_name)\n",
    "    \n",
    "    # Create the intersection folder if it doesn't exist\n",
    "    os.makedirs(destination_folder, exist_ok=False)\n",
    "    \n",
    "    # Create the 'paths' folder inside the intersection folder\n",
    "    paths_folder = os.path.join(destination_folder, \"paths\")\n",
    "    os.makedirs(paths_folder, exist_ok=False)\n",
    "    \n",
    "    # Create subfolders 'path_1', 'path_2', and 'path_3' inside 'paths'\n",
    "    for subfolder in ['path_1', 'path_2', 'path_3']:\n",
    "        os.makedirs(os.path.join(paths_folder, subfolder), exist_ok=False)\n",
    "    \n",
    "    # Define the new filename for the file in the destination folder\n",
    "    new_filename = \"satellite.png\"\n",
    "    source_file_path = os.path.join(source_directory, filename)\n",
    "    destination_file_path = os.path.join(destination_folder, new_filename)\n",
    "    \n",
    "    shutil.copy(source_file_path, destination_file_path)\n",
    "    print(f\"Copied {source_file_path} to {destination_file_path}\")"
   ]
  },
  {
   "cell_type": "code",
   "execution_count": null,
   "metadata": {},
   "outputs": [],
   "source": [
    "paths = glob.glob('./dataset/*/')\n",
    "print(paths[2:])"
   ]
  },
  {
   "cell_type": "code",
   "execution_count": null,
   "metadata": {},
   "outputs": [],
   "source": [
    "gimp_file = \"./path_line.xcf\""
   ]
  },
  {
   "cell_type": "code",
   "execution_count": null,
   "metadata": {},
   "outputs": [],
   "source": [
    "# Copy the GIMP file to each path folder\n",
    "for path in paths:\n",
    "    shutil.copy(gimp_file, path)\n",
    "    print(f\"Copied {gimp_file} to {path}\")"
   ]
  }
 ],
 "metadata": {
  "kernelspec": {
   "display_name": ".msc_venv",
   "language": "python",
   "name": "python3"
  },
  "language_info": {
   "codemirror_mode": {
    "name": "ipython",
    "version": 3
   },
   "file_extension": ".py",
   "mimetype": "text/x-python",
   "name": "python",
   "nbconvert_exporter": "python",
   "pygments_lexer": "ipython3",
   "version": "3.12.3"
  }
 },
 "nbformat": 4,
 "nbformat_minor": 2
}
