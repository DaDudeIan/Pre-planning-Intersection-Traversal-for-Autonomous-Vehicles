{
 "cells": [
  {
   "cell_type": "code",
   "execution_count": 2,
   "metadata": {},
   "outputs": [],
   "source": [
    "import os\n",
    "import shutil\n",
    "import glob"
   ]
  },
  {
   "cell_type": "code",
   "execution_count": null,
   "metadata": {},
   "outputs": [],
   "source": [
    "directory = './unprocessed'\n",
    "amnt = 0\n",
    "for filename in os.listdir(directory):\n",
    "    file_path = os.path.join(directory, filename)\n",
    "    if os.path.isfile(file_path):\n",
    "        amnt += 1\n",
    "        \n",
    "num = 3\n",
    "intersection_numbers = [f\"{n:03d}\" for n in range(num, num+amnt)]"
   ]
  },
  {
   "cell_type": "code",
   "execution_count": 23,
   "metadata": {},
   "outputs": [
    {
     "name": "stdout",
     "output_type": "stream",
     "text": [
      "['003', '004', '005', '006', '007', '008', '009', '010', '011', '012', '013', '014', '015', '016', '017', '018', '019', '020', '021', '022', '023', '024', '025', '026', '027', '028', '029', '030', '031', '032', '033', '034', '035', '036', '037', '038', '039', '040', '041', '042', '043', '044', '045', '046', '047', '048', '049', '050', '051', '052', '053', '054', '055', '056', '057', '058']\n"
     ]
    }
   ],
   "source": [
    "source_directory = './unprocessed'\n",
    "destination_base = './dataset'\n",
    "start_num = 3\n",
    "\n",
    "files = [f for f in os.listdir(source_directory)\n",
    "         if os.path.isfile(os.path.join(source_directory, f))]\n",
    "\n",
    "intersection_numbers = [f\"{n:03d}\" for n in range(start_num, start_num + len(files))]\n",
    "\n",
    "print(intersection_numbers)"
   ]
  },
  {
   "cell_type": "code",
   "execution_count": null,
   "metadata": {},
   "outputs": [
    {
     "name": "stdout",
     "output_type": "stream",
     "text": [
      "Copied ./unprocessed/map0.png to ./dataset/intersection_003/satellite.png\n",
      "Copied ./unprocessed/map1.png to ./dataset/intersection_004/satellite.png\n",
      "Copied ./unprocessed/map10.png to ./dataset/intersection_005/satellite.png\n",
      "Copied ./unprocessed/map11.png to ./dataset/intersection_006/satellite.png\n",
      "Copied ./unprocessed/map12.png to ./dataset/intersection_007/satellite.png\n",
      "Copied ./unprocessed/map13.png to ./dataset/intersection_008/satellite.png\n",
      "Copied ./unprocessed/map14.png to ./dataset/intersection_009/satellite.png\n",
      "Copied ./unprocessed/map15.png to ./dataset/intersection_010/satellite.png\n",
      "Copied ./unprocessed/map16.png to ./dataset/intersection_011/satellite.png\n",
      "Copied ./unprocessed/map17.png to ./dataset/intersection_012/satellite.png\n",
      "Copied ./unprocessed/map18.png to ./dataset/intersection_013/satellite.png\n",
      "Copied ./unprocessed/map19.png to ./dataset/intersection_014/satellite.png\n",
      "Copied ./unprocessed/map2.png to ./dataset/intersection_015/satellite.png\n",
      "Copied ./unprocessed/map20.png to ./dataset/intersection_016/satellite.png\n",
      "Copied ./unprocessed/map21.png to ./dataset/intersection_017/satellite.png\n",
      "Copied ./unprocessed/map22.png to ./dataset/intersection_018/satellite.png\n",
      "Copied ./unprocessed/map23.png to ./dataset/intersection_019/satellite.png\n",
      "Copied ./unprocessed/map24.png to ./dataset/intersection_020/satellite.png\n",
      "Copied ./unprocessed/map25.png to ./dataset/intersection_021/satellite.png\n",
      "Copied ./unprocessed/map26.png to ./dataset/intersection_022/satellite.png\n",
      "Copied ./unprocessed/map27.png to ./dataset/intersection_023/satellite.png\n",
      "Copied ./unprocessed/map28.png to ./dataset/intersection_024/satellite.png\n",
      "Copied ./unprocessed/map29.png to ./dataset/intersection_025/satellite.png\n",
      "Copied ./unprocessed/map3.png to ./dataset/intersection_026/satellite.png\n",
      "Copied ./unprocessed/map30.png to ./dataset/intersection_027/satellite.png\n",
      "Copied ./unprocessed/map31.png to ./dataset/intersection_028/satellite.png\n",
      "Copied ./unprocessed/map32.png to ./dataset/intersection_029/satellite.png\n",
      "Copied ./unprocessed/map33.png to ./dataset/intersection_030/satellite.png\n",
      "Copied ./unprocessed/map34.png to ./dataset/intersection_031/satellite.png\n",
      "Copied ./unprocessed/map35.png to ./dataset/intersection_032/satellite.png\n",
      "Copied ./unprocessed/map36.png to ./dataset/intersection_033/satellite.png\n",
      "Copied ./unprocessed/map37.png to ./dataset/intersection_034/satellite.png\n",
      "Copied ./unprocessed/map38.png to ./dataset/intersection_035/satellite.png\n",
      "Copied ./unprocessed/map39.png to ./dataset/intersection_036/satellite.png\n",
      "Copied ./unprocessed/map4.png to ./dataset/intersection_037/satellite.png\n",
      "Copied ./unprocessed/map40.png to ./dataset/intersection_038/satellite.png\n",
      "Copied ./unprocessed/map41.png to ./dataset/intersection_039/satellite.png\n",
      "Copied ./unprocessed/map42.png to ./dataset/intersection_040/satellite.png\n",
      "Copied ./unprocessed/map43.png to ./dataset/intersection_041/satellite.png\n",
      "Copied ./unprocessed/map44.png to ./dataset/intersection_042/satellite.png\n",
      "Copied ./unprocessed/map45.png to ./dataset/intersection_043/satellite.png\n",
      "Copied ./unprocessed/map46.png to ./dataset/intersection_044/satellite.png\n",
      "Copied ./unprocessed/map47.png to ./dataset/intersection_045/satellite.png\n",
      "Copied ./unprocessed/map48.png to ./dataset/intersection_046/satellite.png\n",
      "Copied ./unprocessed/map49.png to ./dataset/intersection_047/satellite.png\n",
      "Copied ./unprocessed/map5.png to ./dataset/intersection_048/satellite.png\n",
      "Copied ./unprocessed/map50.png to ./dataset/intersection_049/satellite.png\n",
      "Copied ./unprocessed/map51.png to ./dataset/intersection_050/satellite.png\n",
      "Copied ./unprocessed/map52.png to ./dataset/intersection_051/satellite.png\n",
      "Copied ./unprocessed/map53.png to ./dataset/intersection_052/satellite.png\n",
      "Copied ./unprocessed/map54.png to ./dataset/intersection_053/satellite.png\n",
      "Copied ./unprocessed/map55.png to ./dataset/intersection_054/satellite.png\n",
      "Copied ./unprocessed/map6.png to ./dataset/intersection_055/satellite.png\n",
      "Copied ./unprocessed/map7.png to ./dataset/intersection_056/satellite.png\n",
      "Copied ./unprocessed/map8.png to ./dataset/intersection_057/satellite.png\n",
      "Copied ./unprocessed/map9.png to ./dataset/intersection_058/satellite.png\n"
     ]
    }
   ],
   "source": [
    "for i, filename in enumerate(files):\n",
    "    # Construct the intersection folder name and path\n",
    "    folder_name = f\"intersection_{intersection_numbers[i]}\"\n",
    "    destination_folder = os.path.join(destination_base, folder_name)\n",
    "    \n",
    "    # Create the intersection folder if it doesn't exist\n",
    "    os.makedirs(destination_folder, exist_ok=False)\n",
    "    \n",
    "    # Create the 'paths' folder inside the intersection folder\n",
    "    paths_folder = os.path.join(destination_folder, \"paths\")\n",
    "    os.makedirs(paths_folder, exist_ok=False)\n",
    "    \n",
    "    # Create subfolders 'path_1', 'path_2', and 'path_3' inside 'paths'\n",
    "    for subfolder in ['path_1', 'path_2', 'path_3']:\n",
    "        os.makedirs(os.path.join(paths_folder, subfolder), exist_ok=False)\n",
    "    \n",
    "    # Define the new filename for the file in the destination folder\n",
    "    new_filename = \"satellite.png\"\n",
    "    source_file_path = os.path.join(source_directory, filename)\n",
    "    destination_file_path = os.path.join(destination_folder, new_filename)\n",
    "    \n",
    "    shutil.copy(source_file_path, destination_file_path)\n",
    "    print(f\"Copied {source_file_path} to {destination_file_path}\")"
   ]
  },
  {
   "cell_type": "code",
   "execution_count": 6,
   "metadata": {},
   "outputs": [
    {
     "name": "stdout",
     "output_type": "stream",
     "text": [
      "['./dataset/intersection_003/', './dataset/intersection_004/', './dataset/intersection_005/', './dataset/intersection_006/', './dataset/intersection_007/', './dataset/intersection_008/', './dataset/intersection_009/', './dataset/intersection_010/', './dataset/intersection_011/', './dataset/intersection_012/', './dataset/intersection_013/', './dataset/intersection_014/', './dataset/intersection_015/', './dataset/intersection_016/', './dataset/intersection_017/', './dataset/intersection_018/', './dataset/intersection_019/', './dataset/intersection_020/', './dataset/intersection_021/', './dataset/intersection_022/', './dataset/intersection_023/', './dataset/intersection_024/', './dataset/intersection_025/', './dataset/intersection_026/', './dataset/intersection_027/', './dataset/intersection_028/', './dataset/intersection_029/', './dataset/intersection_030/', './dataset/intersection_031/', './dataset/intersection_032/', './dataset/intersection_033/', './dataset/intersection_034/', './dataset/intersection_035/', './dataset/intersection_036/', './dataset/intersection_037/', './dataset/intersection_038/', './dataset/intersection_039/', './dataset/intersection_040/', './dataset/intersection_041/', './dataset/intersection_042/', './dataset/intersection_043/', './dataset/intersection_044/', './dataset/intersection_045/', './dataset/intersection_046/', './dataset/intersection_047/', './dataset/intersection_048/', './dataset/intersection_049/', './dataset/intersection_050/', './dataset/intersection_051/', './dataset/intersection_052/', './dataset/intersection_053/', './dataset/intersection_054/', './dataset/intersection_055/', './dataset/intersection_056/', './dataset/intersection_057/', './dataset/intersection_058/']\n"
     ]
    }
   ],
   "source": [
    "paths = glob.glob('./dataset/*/')\n",
    "print(paths[2:])"
   ]
  },
  {
   "cell_type": "code",
   "execution_count": 7,
   "metadata": {},
   "outputs": [],
   "source": [
    "gimp_file = \"./path_line.xcf\""
   ]
  },
  {
   "cell_type": "code",
   "execution_count": 8,
   "metadata": {},
   "outputs": [
    {
     "name": "stdout",
     "output_type": "stream",
     "text": [
      "Copied ./path_line.xcf to ./dataset/intersection_001/\n",
      "Copied ./path_line.xcf to ./dataset/intersection_002/\n",
      "Copied ./path_line.xcf to ./dataset/intersection_003/\n",
      "Copied ./path_line.xcf to ./dataset/intersection_004/\n",
      "Copied ./path_line.xcf to ./dataset/intersection_005/\n",
      "Copied ./path_line.xcf to ./dataset/intersection_006/\n",
      "Copied ./path_line.xcf to ./dataset/intersection_007/\n",
      "Copied ./path_line.xcf to ./dataset/intersection_008/\n",
      "Copied ./path_line.xcf to ./dataset/intersection_009/\n",
      "Copied ./path_line.xcf to ./dataset/intersection_010/\n",
      "Copied ./path_line.xcf to ./dataset/intersection_011/\n",
      "Copied ./path_line.xcf to ./dataset/intersection_012/\n",
      "Copied ./path_line.xcf to ./dataset/intersection_013/\n",
      "Copied ./path_line.xcf to ./dataset/intersection_014/\n",
      "Copied ./path_line.xcf to ./dataset/intersection_015/\n",
      "Copied ./path_line.xcf to ./dataset/intersection_016/\n",
      "Copied ./path_line.xcf to ./dataset/intersection_017/\n",
      "Copied ./path_line.xcf to ./dataset/intersection_018/\n",
      "Copied ./path_line.xcf to ./dataset/intersection_019/\n",
      "Copied ./path_line.xcf to ./dataset/intersection_020/\n",
      "Copied ./path_line.xcf to ./dataset/intersection_021/\n",
      "Copied ./path_line.xcf to ./dataset/intersection_022/\n",
      "Copied ./path_line.xcf to ./dataset/intersection_023/\n",
      "Copied ./path_line.xcf to ./dataset/intersection_024/\n",
      "Copied ./path_line.xcf to ./dataset/intersection_025/\n",
      "Copied ./path_line.xcf to ./dataset/intersection_026/\n",
      "Copied ./path_line.xcf to ./dataset/intersection_027/\n",
      "Copied ./path_line.xcf to ./dataset/intersection_028/\n",
      "Copied ./path_line.xcf to ./dataset/intersection_029/\n",
      "Copied ./path_line.xcf to ./dataset/intersection_030/\n",
      "Copied ./path_line.xcf to ./dataset/intersection_031/\n",
      "Copied ./path_line.xcf to ./dataset/intersection_032/\n",
      "Copied ./path_line.xcf to ./dataset/intersection_033/\n",
      "Copied ./path_line.xcf to ./dataset/intersection_034/\n",
      "Copied ./path_line.xcf to ./dataset/intersection_035/\n",
      "Copied ./path_line.xcf to ./dataset/intersection_036/\n",
      "Copied ./path_line.xcf to ./dataset/intersection_037/\n",
      "Copied ./path_line.xcf to ./dataset/intersection_038/\n",
      "Copied ./path_line.xcf to ./dataset/intersection_039/\n",
      "Copied ./path_line.xcf to ./dataset/intersection_040/\n",
      "Copied ./path_line.xcf to ./dataset/intersection_041/\n",
      "Copied ./path_line.xcf to ./dataset/intersection_042/\n",
      "Copied ./path_line.xcf to ./dataset/intersection_043/\n",
      "Copied ./path_line.xcf to ./dataset/intersection_044/\n",
      "Copied ./path_line.xcf to ./dataset/intersection_045/\n",
      "Copied ./path_line.xcf to ./dataset/intersection_046/\n",
      "Copied ./path_line.xcf to ./dataset/intersection_047/\n",
      "Copied ./path_line.xcf to ./dataset/intersection_048/\n",
      "Copied ./path_line.xcf to ./dataset/intersection_049/\n",
      "Copied ./path_line.xcf to ./dataset/intersection_050/\n",
      "Copied ./path_line.xcf to ./dataset/intersection_051/\n",
      "Copied ./path_line.xcf to ./dataset/intersection_052/\n",
      "Copied ./path_line.xcf to ./dataset/intersection_053/\n",
      "Copied ./path_line.xcf to ./dataset/intersection_054/\n",
      "Copied ./path_line.xcf to ./dataset/intersection_055/\n",
      "Copied ./path_line.xcf to ./dataset/intersection_056/\n",
      "Copied ./path_line.xcf to ./dataset/intersection_057/\n",
      "Copied ./path_line.xcf to ./dataset/intersection_058/\n"
     ]
    }
   ],
   "source": [
    "# Copy the GIMP file to each path folder\n",
    "for path in paths:\n",
    "    shutil.copy(gimp_file, path)\n",
    "    print(f\"Copied {gimp_file} to {path}\")"
   ]
  }
 ],
 "metadata": {
  "kernelspec": {
   "display_name": ".msc_venv",
   "language": "python",
   "name": "python3"
  },
  "language_info": {
   "codemirror_mode": {
    "name": "ipython",
    "version": 3
   },
   "file_extension": ".py",
   "mimetype": "text/x-python",
   "name": "python",
   "nbconvert_exporter": "python",
   "pygments_lexer": "ipython3",
   "version": "3.12.3"
  }
 },
 "nbformat": 4,
 "nbformat_minor": 2
}
