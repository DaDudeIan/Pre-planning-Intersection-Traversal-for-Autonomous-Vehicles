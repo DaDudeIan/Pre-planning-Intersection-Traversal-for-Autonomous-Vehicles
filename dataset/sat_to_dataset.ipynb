{
 "cells": [
  {
   "cell_type": "code",
   "execution_count": 25,
   "metadata": {},
   "outputs": [],
   "source": [
    "import glob\n",
    "import os\n",
    "import shutil"
   ]
  },
  {
   "cell_type": "code",
   "execution_count": 26,
   "metadata": {},
   "outputs": [
    {
     "name": "stdout",
     "output_type": "stream",
     "text": [
      "unprocessed_maps: ['../sat/imgs/map1.png', '../sat/imgs/map10.png', '../sat/imgs/map11.png', '../sat/imgs/map12.png', '../sat/imgs/map13.png', '../sat/imgs/map14.png', '../sat/imgs/map15.png', '../sat/imgs/map16.png', '../sat/imgs/map17.png', '../sat/imgs/map18.png', '../sat/imgs/map19.png', '../sat/imgs/map2.png', '../sat/imgs/map20.png', '../sat/imgs/map21.png', '../sat/imgs/map22.png', '../sat/imgs/map23.png', '../sat/imgs/map24.png', '../sat/imgs/map25.png', '../sat/imgs/map26.png', '../sat/imgs/map27.png', '../sat/imgs/map28.png', '../sat/imgs/map29.png', '../sat/imgs/map3.png', '../sat/imgs/map30.png', '../sat/imgs/map31.png', '../sat/imgs/map32.png', '../sat/imgs/map4.png', '../sat/imgs/map5.png', '../sat/imgs/map6.png', '../sat/imgs/map7.png', '../sat/imgs/map8.png', '../sat/imgs/map9.png']\n"
     ]
    }
   ],
   "source": [
    "unprocessed_maps = glob.glob(\"../sat/imgs/*.png\")\n",
    "print(f\"unprocessed_maps: {unprocessed_maps}\")"
   ]
  },
  {
   "cell_type": "code",
   "execution_count": 27,
   "metadata": {},
   "outputs": [],
   "source": [
    "start = 1"
   ]
  },
  {
   "cell_type": "code",
   "execution_count": 28,
   "metadata": {},
   "outputs": [
    {
     "name": "stdout",
     "output_type": "stream",
     "text": [
      "Moved ../sat/imgs/map1.png to dataset/test/intersection_001/satellite.png\n",
      "Created path folder: dataset/test/intersection_001/paths/path_1\n",
      "Created path folder: dataset/test/intersection_001/paths/path_2\n",
      "Created path folder: dataset/test/intersection_001/paths/path_3\n",
      "Moved ../sat/imgs/map10.png to dataset/test/intersection_002/satellite.png\n",
      "Created path folder: dataset/test/intersection_002/paths/path_1\n",
      "Created path folder: dataset/test/intersection_002/paths/path_2\n",
      "Created path folder: dataset/test/intersection_002/paths/path_3\n",
      "Moved ../sat/imgs/map11.png to dataset/test/intersection_003/satellite.png\n",
      "Created path folder: dataset/test/intersection_003/paths/path_1\n",
      "Created path folder: dataset/test/intersection_003/paths/path_2\n",
      "Created path folder: dataset/test/intersection_003/paths/path_3\n",
      "Moved ../sat/imgs/map12.png to dataset/test/intersection_004/satellite.png\n",
      "Created path folder: dataset/test/intersection_004/paths/path_1\n",
      "Created path folder: dataset/test/intersection_004/paths/path_2\n",
      "Created path folder: dataset/test/intersection_004/paths/path_3\n",
      "Moved ../sat/imgs/map13.png to dataset/test/intersection_005/satellite.png\n",
      "Created path folder: dataset/test/intersection_005/paths/path_1\n",
      "Created path folder: dataset/test/intersection_005/paths/path_2\n",
      "Created path folder: dataset/test/intersection_005/paths/path_3\n",
      "Moved ../sat/imgs/map14.png to dataset/test/intersection_006/satellite.png\n",
      "Created path folder: dataset/test/intersection_006/paths/path_1\n",
      "Created path folder: dataset/test/intersection_006/paths/path_2\n",
      "Created path folder: dataset/test/intersection_006/paths/path_3\n",
      "Moved ../sat/imgs/map15.png to dataset/test/intersection_007/satellite.png\n",
      "Created path folder: dataset/test/intersection_007/paths/path_1\n",
      "Created path folder: dataset/test/intersection_007/paths/path_2\n",
      "Created path folder: dataset/test/intersection_007/paths/path_3\n",
      "Moved ../sat/imgs/map16.png to dataset/test/intersection_008/satellite.png\n",
      "Created path folder: dataset/test/intersection_008/paths/path_1\n",
      "Created path folder: dataset/test/intersection_008/paths/path_2\n",
      "Created path folder: dataset/test/intersection_008/paths/path_3\n",
      "Moved ../sat/imgs/map17.png to dataset/test/intersection_009/satellite.png\n",
      "Created path folder: dataset/test/intersection_009/paths/path_1\n",
      "Created path folder: dataset/test/intersection_009/paths/path_2\n",
      "Created path folder: dataset/test/intersection_009/paths/path_3\n",
      "Moved ../sat/imgs/map18.png to dataset/test/intersection_010/satellite.png\n",
      "Created path folder: dataset/test/intersection_010/paths/path_1\n",
      "Created path folder: dataset/test/intersection_010/paths/path_2\n",
      "Created path folder: dataset/test/intersection_010/paths/path_3\n",
      "Moved ../sat/imgs/map19.png to dataset/test/intersection_011/satellite.png\n",
      "Created path folder: dataset/test/intersection_011/paths/path_1\n",
      "Created path folder: dataset/test/intersection_011/paths/path_2\n",
      "Created path folder: dataset/test/intersection_011/paths/path_3\n",
      "Moved ../sat/imgs/map2.png to dataset/test/intersection_012/satellite.png\n",
      "Created path folder: dataset/test/intersection_012/paths/path_1\n",
      "Created path folder: dataset/test/intersection_012/paths/path_2\n",
      "Created path folder: dataset/test/intersection_012/paths/path_3\n",
      "Moved ../sat/imgs/map20.png to dataset/test/intersection_013/satellite.png\n",
      "Created path folder: dataset/test/intersection_013/paths/path_1\n",
      "Created path folder: dataset/test/intersection_013/paths/path_2\n",
      "Created path folder: dataset/test/intersection_013/paths/path_3\n",
      "Moved ../sat/imgs/map21.png to dataset/test/intersection_014/satellite.png\n",
      "Created path folder: dataset/test/intersection_014/paths/path_1\n",
      "Created path folder: dataset/test/intersection_014/paths/path_2\n",
      "Created path folder: dataset/test/intersection_014/paths/path_3\n",
      "Moved ../sat/imgs/map22.png to dataset/test/intersection_015/satellite.png\n",
      "Created path folder: dataset/test/intersection_015/paths/path_1\n",
      "Created path folder: dataset/test/intersection_015/paths/path_2\n",
      "Created path folder: dataset/test/intersection_015/paths/path_3\n",
      "Moved ../sat/imgs/map23.png to dataset/test/intersection_016/satellite.png\n",
      "Created path folder: dataset/test/intersection_016/paths/path_1\n",
      "Created path folder: dataset/test/intersection_016/paths/path_2\n",
      "Created path folder: dataset/test/intersection_016/paths/path_3\n",
      "Moved ../sat/imgs/map24.png to dataset/test/intersection_017/satellite.png\n",
      "Created path folder: dataset/test/intersection_017/paths/path_1\n",
      "Created path folder: dataset/test/intersection_017/paths/path_2\n",
      "Created path folder: dataset/test/intersection_017/paths/path_3\n",
      "Moved ../sat/imgs/map25.png to dataset/test/intersection_018/satellite.png\n",
      "Created path folder: dataset/test/intersection_018/paths/path_1\n",
      "Created path folder: dataset/test/intersection_018/paths/path_2\n",
      "Created path folder: dataset/test/intersection_018/paths/path_3\n",
      "Moved ../sat/imgs/map26.png to dataset/test/intersection_019/satellite.png\n",
      "Created path folder: dataset/test/intersection_019/paths/path_1\n",
      "Created path folder: dataset/test/intersection_019/paths/path_2\n",
      "Created path folder: dataset/test/intersection_019/paths/path_3\n",
      "Moved ../sat/imgs/map27.png to dataset/test/intersection_020/satellite.png\n",
      "Created path folder: dataset/test/intersection_020/paths/path_1\n",
      "Created path folder: dataset/test/intersection_020/paths/path_2\n",
      "Created path folder: dataset/test/intersection_020/paths/path_3\n",
      "Moved ../sat/imgs/map28.png to dataset/test/intersection_021/satellite.png\n",
      "Created path folder: dataset/test/intersection_021/paths/path_1\n",
      "Created path folder: dataset/test/intersection_021/paths/path_2\n",
      "Created path folder: dataset/test/intersection_021/paths/path_3\n",
      "Moved ../sat/imgs/map29.png to dataset/test/intersection_022/satellite.png\n",
      "Created path folder: dataset/test/intersection_022/paths/path_1\n",
      "Created path folder: dataset/test/intersection_022/paths/path_2\n",
      "Created path folder: dataset/test/intersection_022/paths/path_3\n",
      "Moved ../sat/imgs/map3.png to dataset/test/intersection_023/satellite.png\n",
      "Created path folder: dataset/test/intersection_023/paths/path_1\n",
      "Created path folder: dataset/test/intersection_023/paths/path_2\n",
      "Created path folder: dataset/test/intersection_023/paths/path_3\n",
      "Moved ../sat/imgs/map30.png to dataset/test/intersection_024/satellite.png\n",
      "Created path folder: dataset/test/intersection_024/paths/path_1\n",
      "Created path folder: dataset/test/intersection_024/paths/path_2\n",
      "Created path folder: dataset/test/intersection_024/paths/path_3\n",
      "Moved ../sat/imgs/map31.png to dataset/test/intersection_025/satellite.png\n",
      "Created path folder: dataset/test/intersection_025/paths/path_1\n",
      "Created path folder: dataset/test/intersection_025/paths/path_2\n",
      "Created path folder: dataset/test/intersection_025/paths/path_3\n",
      "Moved ../sat/imgs/map32.png to dataset/test/intersection_026/satellite.png\n",
      "Created path folder: dataset/test/intersection_026/paths/path_1\n",
      "Created path folder: dataset/test/intersection_026/paths/path_2\n",
      "Created path folder: dataset/test/intersection_026/paths/path_3\n",
      "Moved ../sat/imgs/map4.png to dataset/test/intersection_027/satellite.png\n",
      "Created path folder: dataset/test/intersection_027/paths/path_1\n",
      "Created path folder: dataset/test/intersection_027/paths/path_2\n",
      "Created path folder: dataset/test/intersection_027/paths/path_3\n",
      "Moved ../sat/imgs/map5.png to dataset/test/intersection_028/satellite.png\n",
      "Created path folder: dataset/test/intersection_028/paths/path_1\n",
      "Created path folder: dataset/test/intersection_028/paths/path_2\n",
      "Created path folder: dataset/test/intersection_028/paths/path_3\n",
      "Moved ../sat/imgs/map6.png to dataset/test/intersection_029/satellite.png\n",
      "Created path folder: dataset/test/intersection_029/paths/path_1\n",
      "Created path folder: dataset/test/intersection_029/paths/path_2\n",
      "Created path folder: dataset/test/intersection_029/paths/path_3\n",
      "Moved ../sat/imgs/map7.png to dataset/test/intersection_030/satellite.png\n",
      "Created path folder: dataset/test/intersection_030/paths/path_1\n",
      "Created path folder: dataset/test/intersection_030/paths/path_2\n",
      "Created path folder: dataset/test/intersection_030/paths/path_3\n",
      "Moved ../sat/imgs/map8.png to dataset/test/intersection_031/satellite.png\n",
      "Created path folder: dataset/test/intersection_031/paths/path_1\n",
      "Created path folder: dataset/test/intersection_031/paths/path_2\n",
      "Created path folder: dataset/test/intersection_031/paths/path_3\n",
      "Moved ../sat/imgs/map9.png to dataset/test/intersection_032/satellite.png\n",
      "Created path folder: dataset/test/intersection_032/paths/path_1\n",
      "Created path folder: dataset/test/intersection_032/paths/path_2\n",
      "Created path folder: dataset/test/intersection_032/paths/path_3\n"
     ]
    }
   ],
   "source": [
    "output_base = \"dataset/test\"\n",
    "for idx, map_file in enumerate(unprocessed_maps, start=start):\n",
    "    # Create a folder named like \"intersection_001\", \"intersection_002\", etc.\n",
    "    intersection_dir = os.path.join(output_base, f\"intersection_{idx:03d}\")\n",
    "    os.makedirs(intersection_dir, exist_ok=True)\n",
    "    \n",
    "    # Define the destination path (renaming the file to satellite.png)\n",
    "    dest_file = os.path.join(intersection_dir, \"satellite.png\")\n",
    "    \n",
    "    # Move the file into the new intersection folder\n",
    "    shutil.move(map_file, dest_file)\n",
    "    print(f\"Moved {map_file} to {dest_file}\")\n",
    "    \n",
    "    paths_dir = os.path.join(intersection_dir, \"paths\")\n",
    "    os.makedirs(paths_dir, exist_ok=True)\n",
    "    \n",
    "    # Create three \"path\" sub-folders inside the \"paths\" folder\n",
    "    for i in range(1, 4):\n",
    "        path_folder = os.path.join(paths_dir, f\"path_{i}\")\n",
    "        os.makedirs(path_folder, exist_ok=True)\n",
    "        print(f\"Created path folder: {path_folder}\")\n",
    "        "
   ]
  },
  {
   "cell_type": "code",
   "execution_count": 29,
   "metadata": {},
   "outputs": [
    {
     "data": {
      "text/plain": [
       "'path_line.xcf'"
      ]
     },
     "execution_count": 29,
     "metadata": {},
     "output_type": "execute_result"
    }
   ],
   "source": [
    "xcf_file = glob.glob(\"*.xcf\")\n",
    "\n",
    "xcf_file = xcf_file[0]\n",
    "xcf_file"
   ]
  },
  {
   "cell_type": "code",
   "execution_count": 30,
   "metadata": {},
   "outputs": [
    {
     "name": "stdout",
     "output_type": "stream",
     "text": [
      "Copied path_line.xcf to dataset/test/intersection_001/path_line.xcf\n",
      "Copied path_line.xcf to dataset/test/intersection_002/path_line.xcf\n",
      "Copied path_line.xcf to dataset/test/intersection_003/path_line.xcf\n",
      "Copied path_line.xcf to dataset/test/intersection_004/path_line.xcf\n",
      "Copied path_line.xcf to dataset/test/intersection_005/path_line.xcf\n",
      "Copied path_line.xcf to dataset/test/intersection_006/path_line.xcf\n",
      "Copied path_line.xcf to dataset/test/intersection_007/path_line.xcf\n",
      "Copied path_line.xcf to dataset/test/intersection_008/path_line.xcf\n",
      "Copied path_line.xcf to dataset/test/intersection_009/path_line.xcf\n",
      "Copied path_line.xcf to dataset/test/intersection_010/path_line.xcf\n",
      "Copied path_line.xcf to dataset/test/intersection_011/path_line.xcf\n",
      "Copied path_line.xcf to dataset/test/intersection_012/path_line.xcf\n",
      "Copied path_line.xcf to dataset/test/intersection_013/path_line.xcf\n",
      "Copied path_line.xcf to dataset/test/intersection_014/path_line.xcf\n",
      "Copied path_line.xcf to dataset/test/intersection_015/path_line.xcf\n",
      "Copied path_line.xcf to dataset/test/intersection_016/path_line.xcf\n",
      "Copied path_line.xcf to dataset/test/intersection_017/path_line.xcf\n",
      "Copied path_line.xcf to dataset/test/intersection_018/path_line.xcf\n",
      "Copied path_line.xcf to dataset/test/intersection_019/path_line.xcf\n",
      "Copied path_line.xcf to dataset/test/intersection_020/path_line.xcf\n",
      "Copied path_line.xcf to dataset/test/intersection_021/path_line.xcf\n",
      "Copied path_line.xcf to dataset/test/intersection_022/path_line.xcf\n",
      "Copied path_line.xcf to dataset/test/intersection_023/path_line.xcf\n",
      "Copied path_line.xcf to dataset/test/intersection_024/path_line.xcf\n",
      "Copied path_line.xcf to dataset/test/intersection_025/path_line.xcf\n",
      "Copied path_line.xcf to dataset/test/intersection_026/path_line.xcf\n",
      "Copied path_line.xcf to dataset/test/intersection_027/path_line.xcf\n",
      "Copied path_line.xcf to dataset/test/intersection_028/path_line.xcf\n",
      "Copied path_line.xcf to dataset/test/intersection_029/path_line.xcf\n",
      "Copied path_line.xcf to dataset/test/intersection_030/path_line.xcf\n",
      "Copied path_line.xcf to dataset/test/intersection_031/path_line.xcf\n",
      "Copied path_line.xcf to dataset/test/intersection_032/path_line.xcf\n"
     ]
    }
   ],
   "source": [
    "intersection_folders = sorted(glob.glob(\"dataset/test/intersection_*\"))\n",
    "\n",
    "for folder in intersection_folders:\n",
    "    # Extract the numeric part from folder name (\"intersection_XXX\")\n",
    "    base_name = os.path.basename(folder)\n",
    "    try:\n",
    "        number = int(base_name.split('_')[-1])\n",
    "    except ValueError:\n",
    "        continue  # Skip if the folder name doesn't match the expected pattern\n",
    "    \n",
    "    if number >= 0:\n",
    "        # Define the destination path for the copy inside the intersection folder\n",
    "        dest_path = os.path.join(folder, os.path.basename(xcf_file))\n",
    "        shutil.copy(xcf_file, dest_path)\n",
    "        print(f\"Copied {xcf_file} to {dest_path}\")"
   ]
  },
  {
   "cell_type": "code",
   "execution_count": 24,
   "metadata": {},
   "outputs": [],
   "source": [
    "intersection_folders = sorted(glob.glob(\"dataset/intersection_*\"))\n",
    "\n",
    "for folder in intersection_folders:\n",
    "    # Construct the full path to the \"path_3\" folder inside the \"paths\" folder\n",
    "    path3 = os.path.join(folder, \"paths\", \"path_3\")\n",
    "    # Check if \"path_3\" exists and is a directory\n",
    "    if os.path.isdir(path3):\n",
    "        # Check if the folder is empty\n",
    "        if not os.listdir(path3):\n",
    "            os.rmdir(path3)  # Remove the folder if it's empty\n",
    "            print(f\"Removed empty folder: {path3}\")"
   ]
  }
 ],
 "metadata": {
  "kernelspec": {
   "display_name": ".msc_venv",
   "language": "python",
   "name": "python3"
  },
  "language_info": {
   "codemirror_mode": {
    "name": "ipython",
    "version": 3
   },
   "file_extension": ".py",
   "mimetype": "text/x-python",
   "name": "python",
   "nbconvert_exporter": "python",
   "pygments_lexer": "ipython3",
   "version": "3.12.3"
  }
 },
 "nbformat": 4,
 "nbformat_minor": 2
}
