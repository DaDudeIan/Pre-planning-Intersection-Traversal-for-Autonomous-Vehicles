{
 "cells": [
  {
   "cell_type": "code",
   "execution_count": null,
   "metadata": {},
   "outputs": [],
   "source": [
    "import glob\n",
    "import os\n",
    "import shutil"
   ]
  },
  {
   "cell_type": "code",
   "execution_count": null,
   "metadata": {},
   "outputs": [],
   "source": [
    "unprocessed_maps = glob.glob(\"../sat/imgs/*.png\")\n",
    "print(f\"unprocessed_maps: {unprocessed_maps}\")"
   ]
  },
  {
   "cell_type": "code",
   "execution_count": null,
   "metadata": {},
   "outputs": [],
   "source": [
    "start = 1"
   ]
  },
  {
   "cell_type": "code",
   "execution_count": null,
   "metadata": {},
   "outputs": [],
   "source": [
    "output_base = \"dataset/test\"\n",
    "for idx, map_file in enumerate(unprocessed_maps, start=start):\n",
    "    # Create a folder named like \"intersection_001\", \"intersection_002\", etc.\n",
    "    intersection_dir = os.path.join(output_base, f\"intersection_{idx:03d}\")\n",
    "    os.makedirs(intersection_dir, exist_ok=True)\n",
    "    \n",
    "    # Define the destination path (renaming the file to satellite.png)\n",
    "    dest_file = os.path.join(intersection_dir, \"satellite.png\")\n",
    "    \n",
    "    # Move the file into the new intersection folder\n",
    "    shutil.move(map_file, dest_file)\n",
    "    print(f\"Moved {map_file} to {dest_file}\")\n",
    "    \n",
    "    paths_dir = os.path.join(intersection_dir, \"paths\")\n",
    "    os.makedirs(paths_dir, exist_ok=True)\n",
    "    \n",
    "    # Create three \"path\" sub-folders inside the \"paths\" folder\n",
    "    for i in range(1, 4):\n",
    "        path_folder = os.path.join(paths_dir, f\"path_{i}\")\n",
    "        os.makedirs(path_folder, exist_ok=True)\n",
    "        print(f\"Created path folder: {path_folder}\")\n",
    "        "
   ]
  },
  {
   "cell_type": "code",
   "execution_count": null,
   "metadata": {},
   "outputs": [],
   "source": [
    "xcf_file = glob.glob(\"*.xcf\")\n",
    "\n",
    "xcf_file = xcf_file[0]\n",
    "xcf_file"
   ]
  },
  {
   "cell_type": "code",
   "execution_count": null,
   "metadata": {},
   "outputs": [],
   "source": [
    "intersection_folders = sorted(glob.glob(\"dataset/test/intersection_*\"))\n",
    "\n",
    "for folder in intersection_folders:\n",
    "    # Extract the numeric part from folder name (\"intersection_XXX\")\n",
    "    base_name = os.path.basename(folder)\n",
    "    try:\n",
    "        number = int(base_name.split('_')[-1])\n",
    "    except ValueError:\n",
    "        continue  # Skip if the folder name doesn't match the expected pattern\n",
    "    \n",
    "    if number >= 0:\n",
    "        # Define the destination path for the copy inside the intersection folder\n",
    "        dest_path = os.path.join(folder, os.path.basename(xcf_file))\n",
    "        shutil.copy(xcf_file, dest_path)\n",
    "        print(f\"Copied {xcf_file} to {dest_path}\")"
   ]
  },
  {
   "cell_type": "code",
   "execution_count": null,
   "metadata": {},
   "outputs": [],
   "source": [
    "intersection_folders = sorted(glob.glob(\"dataset/intersection_*\"))\n",
    "\n",
    "for folder in intersection_folders:\n",
    "    # Construct the full path to the \"path_3\" folder inside the \"paths\" folder\n",
    "    path3 = os.path.join(folder, \"paths\", \"path_3\")\n",
    "    # Check if \"path_3\" exists and is a directory\n",
    "    if os.path.isdir(path3):\n",
    "        # Check if the folder is empty\n",
    "        if not os.listdir(path3):\n",
    "            os.rmdir(path3)  # Remove the folder if it's empty\n",
    "            print(f\"Removed empty folder: {path3}\")"
   ]
  }
 ],
 "metadata": {
  "kernelspec": {
   "display_name": ".msc_venv",
   "language": "python",
   "name": "python3"
  },
  "language_info": {
   "codemirror_mode": {
    "name": "ipython",
    "version": 3
   },
   "file_extension": ".py",
   "mimetype": "text/x-python",
   "name": "python",
   "nbconvert_exporter": "python",
   "pygments_lexer": "ipython3",
   "version": "3.12.3"
  }
 },
 "nbformat": 4,
 "nbformat_minor": 2
}
