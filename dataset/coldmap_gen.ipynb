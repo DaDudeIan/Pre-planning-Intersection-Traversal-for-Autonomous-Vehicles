{
 "cells": [
  {
   "cell_type": "markdown",
   "metadata": {},
   "source": [
    "# Coldmap automation\n",
    "\n",
    "The goal of this notebook is to automatically generate the coldmaps for each path in the dataset."
   ]
  },
  {
   "cell_type": "code",
   "execution_count": null,
   "metadata": {},
   "outputs": [],
   "source": [
    "import os\n",
    "import glob\n",
    "import importlib\n",
    "import dataset_lib\n",
    "importlib.reload(dataset_lib)\n",
    "from dataset_lib import *"
   ]
  },
  {
   "cell_type": "code",
   "execution_count": null,
   "metadata": {},
   "outputs": [],
   "source": [
    "input_path = \"img/cmap/map1_path_thin.png\"\n",
    "output_path = \"img/cmap/map1_path_thin_tmp5.png\"\n",
    "coords = get_nearest_coords(input_path, process_rows2)\n",
    "coldmap = coords_to_coldmap(coords, threshold=20, exponent=1.25, normalize=255)\n",
    "save_coldmap_png(coldmap, output_path)"
   ]
  },
  {
   "cell_type": "code",
   "execution_count": null,
   "metadata": {},
   "outputs": [],
   "source": [
    "path_line1 = \"./dataset/intersection_002/paths/path_1/\"\n",
    "path_line2 = \"./dataset/intersection_002/paths/path_2/\"\n",
    "path_line3 = \"./dataset/intersection_001/paths/path_3/\"\n",
    "\n",
    "paths = [path_line1, path_line2, path_line3]\n",
    "\n",
    "print(paths)"
   ]
  },
  {
   "cell_type": "code",
   "execution_count": null,
   "metadata": {},
   "outputs": [],
   "source": [
    "import glob\n",
    "\n",
    "paths_test = glob.glob('./dataset/test/*/paths/*/')\n",
    "paths_train = glob.glob('./dataset/train/*/paths/*/')\n",
    "paths = paths_test + paths_train\n",
    "print(paths)"
   ]
  },
  {
   "cell_type": "code",
   "execution_count": null,
   "metadata": {},
   "outputs": [],
   "source": [
    "paths = glob.glob('./dataset/train/*/paths/*/')\n",
    "print(paths) \n",
    "\n",
    "r = range(113, 904+1)\n",
    "r = [f\"{i:03d}\" for i in r]\n",
    "print(r)\n",
    "new_paths = [p for p in paths if any(sub in p for sub in r)]\n",
    "print(new_paths)"
   ]
  },
  {
   "cell_type": "code",
   "execution_count": null,
   "metadata": {},
   "outputs": [],
   "source": [
    "for path in new_paths: \n",
    "    path = os.path.join(path, \"path_line.png\")\n",
    "    coords = get_nearest_coords(path, process_rows2)\n",
    "    \n",
    "    coldmap = coords_to_coldmap(coords, threshold=20, exponent=0.5, normalize=1)\n",
    "    \n",
    "    dir_name = os.path.dirname(path)\n",
    "    out_file = os.path.join(dir_name, \"cold_map.png\")\n",
    "    \n",
    "    out_file_npy = os.path.join(dir_name, \"cold_map\")\n",
    "    \n",
    "    save_coldmap_npy(coldmap, out_file_npy)"
   ]
  },
  {
   "cell_type": "code",
   "execution_count": null,
   "metadata": {},
   "outputs": [],
   "source": [
    "import cv2\n",
    "import numpy as np\n",
    "\n",
    "coldmap1: np.ndarray = np.load(\"./dataset/intersection_001/paths/path_3/cold_map.npy\")\n",
    "print(f\"Cold is type: {type(coldmap1)} ({coldmap1.dtype}), with max: {coldmap1.max()}, min: {coldmap1.min()}, avg: {coldmap1.mean()}\")\n",
    "\n",
    "cv2.imshow(\"coldmap1\", coldmap1)\n",
    "cv2.waitKey(0)\n",
    "cv2.destroyAllWindows()"
   ]
  },
  {
   "cell_type": "code",
   "execution_count": null,
   "metadata": {},
   "outputs": [],
   "source": [
    "class_label_paths_test = glob.glob('./dataset/test/intersection_*/class_labels.npy')\n",
    "class_label_paths_train = glob.glob('./dataset/train/intersection_*/class_labels.npy')\n",
    "class_label_paths = class_label_paths_test + class_label_paths_train\n",
    "print(len(class_label_paths))\n",
    "print(class_label_paths[:-5])\n"
   ]
  },
  {
   "cell_type": "code",
   "execution_count": null,
   "metadata": {},
   "outputs": [],
   "source": [
    "class_label_paths_test = glob.glob('./dataset/test/intersection_*/class_labels.npy')\n",
    "class_label_paths_train = glob.glob('./dataset/train/intersection_*/class_labels.npy')\n",
    "class_label_paths = class_label_paths_test + class_label_paths_train\n",
    "\n",
    "for path in class_label_paths:\n",
    "    coords = get_nearest_coords_npy(path, process_rows2)\n",
    "    \n",
    "    coldmap = coords_to_coldmap(coords, threshold=10, exponent=0.5, normalize=1)\n",
    "    \n",
    "    dir_name = os.path.dirname(path)\n",
    "    out_file_npy = os.path.join(dir_name, \"class_label_cold_map\")\n",
    "    \n",
    "    save_coldmap_npy(coldmap, out_file_npy)"
   ]
  },
  {
   "cell_type": "code",
   "execution_count": null,
   "metadata": {},
   "outputs": [],
   "source": [
    "\n",
    "import matplotlib.pyplot as plt\n",
    "cmap = np.load(\"./dataset/train/intersection_001/class_label_cold_map.npy\")\n",
    "\n",
    "x = np.arange(cmap.shape[1])\n",
    "y = np.arange(cmap.shape[0])\n",
    "x, y = np.meshgrid(x, y)\n",
    "\n",
    "fig = plt.figure(figsize=(10, 7))\n",
    "ax = fig.add_subplot(111, projection='3d')\n",
    "\n",
    "ax.plot_surface(x, y, cmap, cmap='viridis')\n",
    "\n",
    "ax.set_xlabel('X-axis')\n",
    "ax.set_ylabel('Y-axis')\n",
    "ax.set_zlabel('Z-axis')\n",
    "plt.show()"
   ]
  },
  {
   "cell_type": "code",
   "execution_count": null,
   "metadata": {},
   "outputs": [],
   "source": []
  }
 ],
 "metadata": {
  "kernelspec": {
   "display_name": ".msc_venv",
   "language": "python",
   "name": "python3"
  },
  "language_info": {
   "codemirror_mode": {
    "name": "ipython",
    "version": 3
   },
   "file_extension": ".py",
   "mimetype": "text/x-python",
   "name": "python",
   "nbconvert_exporter": "python",
   "pygments_lexer": "ipython3",
   "version": "3.12.3"
  }
 },
 "nbformat": 4,
 "nbformat_minor": 2
}
