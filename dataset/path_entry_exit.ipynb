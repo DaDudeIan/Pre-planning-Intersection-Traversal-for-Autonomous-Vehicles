{
 "cells": [
  {
   "cell_type": "markdown",
   "metadata": {},
   "source": [
    "# Path Entry and Exit Automation\n",
    "\n",
    "This notebook aims to analyze the entry and exit points in the dataset."
   ]
  },
  {
   "cell_type": "code",
   "execution_count": null,
   "metadata": {},
   "outputs": [],
   "source": [
    "import cv2\n",
    "import os\n",
    "import json\n",
    "import glob\n",
    "import numpy as np"
   ]
  },
  {
   "cell_type": "code",
   "execution_count": null,
   "metadata": {},
   "outputs": [],
   "source": [
    "path_line = \"./dataset/intersection_001/paths/path_3/path_line.png\"\n",
    "\n",
    "img = cv2.imread(path_line, cv2.IMREAD_GRAYSCALE)\n",
    "type(img)"
   ]
  },
  {
   "cell_type": "code",
   "execution_count": null,
   "metadata": {},
   "outputs": [],
   "source": [
    "def right_edge_search(image: np.ndarray) -> list:\n",
    "    m, n = image.shape\n",
    "    x = n - 1  # rightmost column\n",
    "    max_val = 0\n",
    "    \n",
    "    coords = []\n",
    "    \n",
    "    for i in range(m):\n",
    "        if image[i][x] != 0 and image[i][x] > max_val:\n",
    "            max_val = image[i][x]\n",
    "            coords = [i, x]\n",
    "            \n",
    "    return coords\n",
    "\n",
    "def left_edge_search(image: np.ndarray) -> list:\n",
    "    m, n = image.shape\n",
    "    x = 0  # leftmost column\n",
    "    max_val = 0\n",
    "    \n",
    "    coords = []\n",
    "    \n",
    "    for i in range(m):\n",
    "        if image[i][x] != 0 and image[i][x] > max_val:\n",
    "            max_val = image[i][x]\n",
    "            coords = [i, x]\n",
    "            \n",
    "    return coords\n",
    "\n",
    "def top_edge_search(image: np.ndarray) -> list:\n",
    "    n = image.shape[0]\n",
    "    y = 0\n",
    "    max_val = 0\n",
    "    \n",
    "    coords = []\n",
    "    \n",
    "    for i in range(n):\n",
    "        if image[y][i] != 0 and image[y][i] > max_val:\n",
    "            max_val = image[y][i]\n",
    "            coords = [y, i]\n",
    "            \n",
    "    return coords\n",
    "\n",
    "def bottom_edge_search(image: np.ndarray) -> list:\n",
    "    m, n = image.shape\n",
    "    y = m - 1  # bottom row\n",
    "    max_val = 0\n",
    "    \n",
    "    coords = []\n",
    "    \n",
    "    for i in range(n):\n",
    "        if image[y][i] != 0 and image[y][i] > max_val:\n",
    "            max_val = image[y][i]\n",
    "            coords = [y, i]\n",
    "            \n",
    "    return coords"
   ]
  },
  {
   "cell_type": "code",
   "execution_count": null,
   "metadata": {},
   "outputs": [],
   "source": [
    "def find_entry_coords(image: np.ndarray) -> list:\n",
    "    return bottom_edge_search(image)\n",
    "\n",
    "def find_exit_coords(image: np.ndarray) -> list:\n",
    "    top = top_edge_search(image)\n",
    "    if top:\n",
    "        return top\n",
    "    right = right_edge_search(image)\n",
    "    if right:\n",
    "        return right\n",
    "    left = left_edge_search(image)\n",
    "    if left:\n",
    "        return left\n",
    "    else:\n",
    "        return []"
   ]
  },
  {
   "cell_type": "code",
   "execution_count": null,
   "metadata": {},
   "outputs": [],
   "source": [
    "path_line1 = \"./dataset/intersection_002/paths/path_1/\"\n",
    "path_line2 = \"./dataset/intersection_002/paths/path_2/\"\n",
    "path_line3 = \"./dataset/intersection_001/paths/path_3/\"\n",
    "\n",
    "paths = [path_line1, path_line2, path_line3]"
   ]
  },
  {
   "cell_type": "code",
   "execution_count": null,
   "metadata": {},
   "outputs": [],
   "source": [
    "import glob\n",
    "import shutil\n",
    "\n",
    "paths = glob.glob('./dataset/*/paths/*/*.json')\n",
    "print(paths) "
   ]
  },
  {
   "cell_type": "code",
   "execution_count": null,
   "metadata": {},
   "outputs": [],
   "source": [
    "for path in paths:\n",
    "    dir_name = os.path.dirname(path)\n",
    "    \n",
    "    \n",
    "    out_file = os.path.join(dir_name, \"path_line_ee.json\")\n",
    "    \n",
    "    shutil.move(path, out_file)\n",
    "    print(f\"Moved {path} to {out_file}\")"
   ]
  },
  {
   "cell_type": "code",
   "execution_count": null,
   "metadata": {},
   "outputs": [],
   "source": [
    "paths = glob.glob('./dataset/train/*/paths/*/')\n",
    "print(paths) \n",
    "\n",
    "r = range(113, 904+1)\n",
    "r = [f\"{i:03d}\" for i in r]\n",
    "print(r)\n",
    "new_paths = [p for p in paths if any(sub in p for sub in r)]\n",
    "print(new_paths)"
   ]
  },
  {
   "cell_type": "code",
   "execution_count": null,
   "metadata": {},
   "outputs": [],
   "source": [
    "failed = []\n",
    "\n",
    "for path in paths:\n",
    "    path = os.path.join(path, \"path_line.png\")\n",
    "    img = cv2.imread(path, cv2.IMREAD_GRAYSCALE)\n",
    "    \n",
    "    entry = find_entry_coords(img)\n",
    "    exit = find_exit_coords(img)\n",
    "    \n",
    "    if not entry or not exit:\n",
    "        print(f\"Entry or exit coordinates not found for {path}\")\n",
    "        failed.append(path)\n",
    "        continue\n",
    "    \n",
    "    ee = {\n",
    "        \"entry\": {\"x\": entry[0], \"y\": entry[1]},\n",
    "        \"exit\": {\"x\": exit[0], \"y\": exit[1]},\n",
    "    }\n",
    "    \n",
    "    dir_name = os.path.dirname(path)\n",
    "    out_file = os.path.join(dir_name, \"path_line_ee.json\")\n",
    "    del_file = os.path.join(dir_name, \"fine_line_ee.json\")\n",
    "    if os.path.exists(del_file):\n",
    "        os.remove(del_file)\n",
    "    \n",
    "    with open(out_file, \"w\") as f:\n",
    "        json.dump(ee, f, indent=4)\n",
    "        \n",
    "    print(f\"Saved {out_file} with entry and exit coordinates: {ee}\")\n",
    "    \n",
    "print(f\"Failed to find entry or exit coordinates for {failed}\" if failed else \"All paths processed successfully\")"
   ]
  },
  {
   "cell_type": "code",
   "execution_count": null,
   "metadata": {},
   "outputs": [],
   "source": [
    "paths_json = glob.glob('./dataset/*/paths/*/*.json')\n",
    "paths_json = [os.path.dirname(path) for path in paths_json]\n",
    "paths_png = glob.glob('./dataset/*/paths/*/*.png')\n",
    "paths_png = [os.path.dirname(path) for path in paths_png]\n",
    "paths_npy = glob.glob('./dataset/*/paths/*/*.npy')\n",
    "paths_npy = [os.path.dirname(path) for path in paths_npy]\n",
    "\n",
    "print(paths_json == paths_png == paths_npy)"
   ]
  }
 ],
 "metadata": {
  "kernelspec": {
   "display_name": ".msc_venv",
   "language": "python",
   "name": "python3"
  },
  "language_info": {
   "codemirror_mode": {
    "name": "ipython",
    "version": 3
   },
   "file_extension": ".py",
   "mimetype": "text/x-python",
   "name": "python",
   "nbconvert_exporter": "python",
   "pygments_lexer": "ipython3",
   "version": "3.12.3"
  }
 },
 "nbformat": 4,
 "nbformat_minor": 2
}
